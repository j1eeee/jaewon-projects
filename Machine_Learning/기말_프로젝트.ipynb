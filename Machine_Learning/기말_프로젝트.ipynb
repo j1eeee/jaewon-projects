{
  "nbformat": 4,
  "nbformat_minor": 0,
  "metadata": {
    "colab": {
      "name": "2017320114_최재원_프로젝트.ipynb",
      "provenance": [],
      "collapsed_sections": []
    },
    "kernelspec": {
      "name": "python3",
      "display_name": "Python 3"
    },
    "language_info": {
      "name": "python"
    }
  },
  "cells": [
    {
      "cell_type": "markdown",
      "source": [
        "#2021 기계학습 기말 프로젝트\n",
        "\n",
        "##학번 / 이름:   2017320114 최재원"
      ],
      "metadata": {
        "id": "I5FPPpjEoZL1"
      }
    },
    {
      "cell_type": "markdown",
      "source": [
        "# A. 실험 내용에 대한 전체 요약\n",
        "\n",
        "#### 사용한 데이터: Adult\n",
        "\n",
        "\n",
        "#### 1) 개요\n",
        "선정한 데이터에 대한 설명\n",
        "- 이 Dataset은 UCI에서 제공한 Dataset으로 1994년에 미국에서 성인을 대상으로 한 인구조사이다. 이 데이터로 여러 feature들을 통해 연소득이 $50,000이 넘는지 넘지 않는지 인구별로 결과를 제시해 준다.\n",
        "\n",
        "데이터 URL\n",
        "- url = \"https://archive.ics.uci.edu/ml/machine-learning-databases/adult/adult.data\"\n",
        "\n",
        "Feature 설명\n",
        "- Age: 나이\n",
        "- workclass: 고용 형태\n",
        "- fnlwgt: 개인의 가중치\n",
        "- education: 학력\n",
        "- education-num: 개인 교육 수준\n",
        "- marital-status: 결혼 상태\n",
        "- occupation: 직업 종\n",
        "- relationship: 가족 관계\n",
        "- race: 인종\n",
        "- sex: 성별\n",
        "- capital-gain: 이익\n",
        "- capital-loss: 손실\n",
        "- hours-per-week: 주간 노동 시간\n",
        "- native-country: 국적\n",
        "- income: 소득(label)\n",
        "---\n",
        "\n",
        "\n",
        "#### 2) 목표\n",
        "전처리를 진행한 후 완료된 adult dataset을 가지고 인구의 feature에 따라서 소득(income)이 연 $50,000이 넘는지 안 넘는지 예측(predict)할 것이다.\n",
        "\n",
        "\n",
        "---\n",
        "\n",
        "\n",
        "#### 3)모델\n",
        "1. Decision Tree\n",
        "2. Random Forest(Ensemble Method)\n",
        "3. Multilayer Perceptron(MLP)\n",
        "\n",
        "\n",
        "---\n",
        "\n",
        "\n",
        "#### 4) 실험 목차\n",
        "1. 데이터 전처리 진행(Data Preprocessing)\n",
        "  - MLP의 경우 MLP를 위해서 따로 데이터 전처리 진행(one-hot encoding 추가)\n",
        "\n",
        "2. 0-R을 통한 Baseline 성능 분석\n",
        "\n",
        "3. Split Data\n",
        "  - model을 훈련시킬 train set, model 훈련 과정에서 성능을 평가할 validation set, 그리고 각각의 모델의 최종 성능을 평가할 test set으로 나눈다.\n",
        "\n",
        "4. *Decision Tree, Random Forest, MLP*에 대해서 Build and Train Model\n",
        "  - 3개의 모델에 대해 parameter를 조정해서 train data로 훈련\n",
        "\n",
        "5. 결과 분석 및 모델 선정\n",
        "  - 각각의 모델들의 parameter pruning model을 validation data set을 이용해서 성능 분석\n",
        "\n",
        "\n",
        "---\n",
        "\n",
        "#### 5) 최종 모델 선정\n",
        "1. 각각의 최적의 Parameter가 정해진 모델들에 대해서 test set으로 최종 성능(accuracy) 비교\n",
        "\n",
        "2. 최종적으로 Random Forest 모델 선정"
      ],
      "metadata": {
        "id": "_1OM5tBmolWZ"
      }
    },
    {
      "cell_type": "code",
      "source": [
        "# 1. import statements\n",
        "import numpy as np\n",
        "import pandas as pd\n",
        "import matplotlib.pyplot as plt\n",
        "np.set_printoptions(suppress = True)\n",
        "import warnings\n",
        "\n",
        "from sklearn.model_selection import train_test_split\n",
        "from sklearn.tree import DecisionTreeClassifier\n",
        "from sklearn.ensemble import RandomForestClassifier\n",
        "from sklearn.neural_network import MLPClassifier\n",
        "\n",
        "from sklearn.preprocessing import LabelEncoder\n",
        "warnings.filterwarnings(\"ignore\")"
      ],
      "metadata": {
        "id": "VmB8WMj-1BBx"
      },
      "execution_count": 4,
      "outputs": []
    },
    {
      "cell_type": "markdown",
      "source": [
        "#B. 데이터 전처리(Data Preprocessing)"
      ],
      "metadata": {
        "id": "uDDnAaUOwjLw"
      }
    },
    {
      "cell_type": "code",
      "execution_count": 56,
      "metadata": {
        "id": "Kb-8XtPmc028"
      },
      "outputs": [],
      "source": [
        "#columns 이름 지정\n",
        "columns = ['age', 'workclass', 'fnlwgt', 'education', 'education_num', 'marital_status', 'occupation', 'relationship', 'race', 'sex', 'capital_gain', 'capital_loss', 'hours_per_week', 'native_country', 'income']\n",
        "url = \"https://archive.ics.uci.edu/ml/machine-learning-databases/adult/adult.data\"\n",
        "data = pd.read_csv(url, header = None, names = columns, index_col = False)\n",
        "\n",
        "#missing value drop\n",
        "data = data.dropna()"
      ]
    },
    {
      "cell_type": "code",
      "source": [
        "data.head()"
      ],
      "metadata": {
        "colab": {
          "base_uri": "https://localhost:8080/",
          "height": 206
        },
        "id": "xumR2oledbg_",
        "outputId": "57a40da3-bae0-4268-9caa-efb9e484ef68"
      },
      "execution_count": 57,
      "outputs": [
        {
          "output_type": "execute_result",
          "data": {
            "text/html": [
              "\n",
              "  <div id=\"df-e4d2e310-af45-4a77-895c-9448b0d02626\">\n",
              "    <div class=\"colab-df-container\">\n",
              "      <div>\n",
              "<style scoped>\n",
              "    .dataframe tbody tr th:only-of-type {\n",
              "        vertical-align: middle;\n",
              "    }\n",
              "\n",
              "    .dataframe tbody tr th {\n",
              "        vertical-align: top;\n",
              "    }\n",
              "\n",
              "    .dataframe thead th {\n",
              "        text-align: right;\n",
              "    }\n",
              "</style>\n",
              "<table border=\"1\" class=\"dataframe\">\n",
              "  <thead>\n",
              "    <tr style=\"text-align: right;\">\n",
              "      <th></th>\n",
              "      <th>age</th>\n",
              "      <th>workclass</th>\n",
              "      <th>fnlwgt</th>\n",
              "      <th>education</th>\n",
              "      <th>education_num</th>\n",
              "      <th>marital_status</th>\n",
              "      <th>occupation</th>\n",
              "      <th>relationship</th>\n",
              "      <th>race</th>\n",
              "      <th>sex</th>\n",
              "      <th>capital_gain</th>\n",
              "      <th>capital_loss</th>\n",
              "      <th>hours_per_week</th>\n",
              "      <th>native_country</th>\n",
              "      <th>income</th>\n",
              "    </tr>\n",
              "  </thead>\n",
              "  <tbody>\n",
              "    <tr>\n",
              "      <th>0</th>\n",
              "      <td>39</td>\n",
              "      <td>State-gov</td>\n",
              "      <td>77516</td>\n",
              "      <td>Bachelors</td>\n",
              "      <td>13</td>\n",
              "      <td>Never-married</td>\n",
              "      <td>Adm-clerical</td>\n",
              "      <td>Not-in-family</td>\n",
              "      <td>White</td>\n",
              "      <td>Male</td>\n",
              "      <td>2174</td>\n",
              "      <td>0</td>\n",
              "      <td>40</td>\n",
              "      <td>United-States</td>\n",
              "      <td>&lt;=50K</td>\n",
              "    </tr>\n",
              "    <tr>\n",
              "      <th>1</th>\n",
              "      <td>50</td>\n",
              "      <td>Self-emp-not-inc</td>\n",
              "      <td>83311</td>\n",
              "      <td>Bachelors</td>\n",
              "      <td>13</td>\n",
              "      <td>Married-civ-spouse</td>\n",
              "      <td>Exec-managerial</td>\n",
              "      <td>Husband</td>\n",
              "      <td>White</td>\n",
              "      <td>Male</td>\n",
              "      <td>0</td>\n",
              "      <td>0</td>\n",
              "      <td>13</td>\n",
              "      <td>United-States</td>\n",
              "      <td>&lt;=50K</td>\n",
              "    </tr>\n",
              "    <tr>\n",
              "      <th>2</th>\n",
              "      <td>38</td>\n",
              "      <td>Private</td>\n",
              "      <td>215646</td>\n",
              "      <td>HS-grad</td>\n",
              "      <td>9</td>\n",
              "      <td>Divorced</td>\n",
              "      <td>Handlers-cleaners</td>\n",
              "      <td>Not-in-family</td>\n",
              "      <td>White</td>\n",
              "      <td>Male</td>\n",
              "      <td>0</td>\n",
              "      <td>0</td>\n",
              "      <td>40</td>\n",
              "      <td>United-States</td>\n",
              "      <td>&lt;=50K</td>\n",
              "    </tr>\n",
              "    <tr>\n",
              "      <th>3</th>\n",
              "      <td>53</td>\n",
              "      <td>Private</td>\n",
              "      <td>234721</td>\n",
              "      <td>11th</td>\n",
              "      <td>7</td>\n",
              "      <td>Married-civ-spouse</td>\n",
              "      <td>Handlers-cleaners</td>\n",
              "      <td>Husband</td>\n",
              "      <td>Black</td>\n",
              "      <td>Male</td>\n",
              "      <td>0</td>\n",
              "      <td>0</td>\n",
              "      <td>40</td>\n",
              "      <td>United-States</td>\n",
              "      <td>&lt;=50K</td>\n",
              "    </tr>\n",
              "    <tr>\n",
              "      <th>4</th>\n",
              "      <td>28</td>\n",
              "      <td>Private</td>\n",
              "      <td>338409</td>\n",
              "      <td>Bachelors</td>\n",
              "      <td>13</td>\n",
              "      <td>Married-civ-spouse</td>\n",
              "      <td>Prof-specialty</td>\n",
              "      <td>Wife</td>\n",
              "      <td>Black</td>\n",
              "      <td>Female</td>\n",
              "      <td>0</td>\n",
              "      <td>0</td>\n",
              "      <td>40</td>\n",
              "      <td>Cuba</td>\n",
              "      <td>&lt;=50K</td>\n",
              "    </tr>\n",
              "  </tbody>\n",
              "</table>\n",
              "</div>\n",
              "      <button class=\"colab-df-convert\" onclick=\"convertToInteractive('df-e4d2e310-af45-4a77-895c-9448b0d02626')\"\n",
              "              title=\"Convert this dataframe to an interactive table.\"\n",
              "              style=\"display:none;\">\n",
              "        \n",
              "  <svg xmlns=\"http://www.w3.org/2000/svg\" height=\"24px\"viewBox=\"0 0 24 24\"\n",
              "       width=\"24px\">\n",
              "    <path d=\"M0 0h24v24H0V0z\" fill=\"none\"/>\n",
              "    <path d=\"M18.56 5.44l.94 2.06.94-2.06 2.06-.94-2.06-.94-.94-2.06-.94 2.06-2.06.94zm-11 1L8.5 8.5l.94-2.06 2.06-.94-2.06-.94L8.5 2.5l-.94 2.06-2.06.94zm10 10l.94 2.06.94-2.06 2.06-.94-2.06-.94-.94-2.06-.94 2.06-2.06.94z\"/><path d=\"M17.41 7.96l-1.37-1.37c-.4-.4-.92-.59-1.43-.59-.52 0-1.04.2-1.43.59L10.3 9.45l-7.72 7.72c-.78.78-.78 2.05 0 2.83L4 21.41c.39.39.9.59 1.41.59.51 0 1.02-.2 1.41-.59l7.78-7.78 2.81-2.81c.8-.78.8-2.07 0-2.86zM5.41 20L4 18.59l7.72-7.72 1.47 1.35L5.41 20z\"/>\n",
              "  </svg>\n",
              "      </button>\n",
              "      \n",
              "  <style>\n",
              "    .colab-df-container {\n",
              "      display:flex;\n",
              "      flex-wrap:wrap;\n",
              "      gap: 12px;\n",
              "    }\n",
              "\n",
              "    .colab-df-convert {\n",
              "      background-color: #E8F0FE;\n",
              "      border: none;\n",
              "      border-radius: 50%;\n",
              "      cursor: pointer;\n",
              "      display: none;\n",
              "      fill: #1967D2;\n",
              "      height: 32px;\n",
              "      padding: 0 0 0 0;\n",
              "      width: 32px;\n",
              "    }\n",
              "\n",
              "    .colab-df-convert:hover {\n",
              "      background-color: #E2EBFA;\n",
              "      box-shadow: 0px 1px 2px rgba(60, 64, 67, 0.3), 0px 1px 3px 1px rgba(60, 64, 67, 0.15);\n",
              "      fill: #174EA6;\n",
              "    }\n",
              "\n",
              "    [theme=dark] .colab-df-convert {\n",
              "      background-color: #3B4455;\n",
              "      fill: #D2E3FC;\n",
              "    }\n",
              "\n",
              "    [theme=dark] .colab-df-convert:hover {\n",
              "      background-color: #434B5C;\n",
              "      box-shadow: 0px 1px 3px 1px rgba(0, 0, 0, 0.15);\n",
              "      filter: drop-shadow(0px 1px 2px rgba(0, 0, 0, 0.3));\n",
              "      fill: #FFFFFF;\n",
              "    }\n",
              "  </style>\n",
              "\n",
              "      <script>\n",
              "        const buttonEl =\n",
              "          document.querySelector('#df-e4d2e310-af45-4a77-895c-9448b0d02626 button.colab-df-convert');\n",
              "        buttonEl.style.display =\n",
              "          google.colab.kernel.accessAllowed ? 'block' : 'none';\n",
              "\n",
              "        async function convertToInteractive(key) {\n",
              "          const element = document.querySelector('#df-e4d2e310-af45-4a77-895c-9448b0d02626');\n",
              "          const dataTable =\n",
              "            await google.colab.kernel.invokeFunction('convertToInteractive',\n",
              "                                                     [key], {});\n",
              "          if (!dataTable) return;\n",
              "\n",
              "          const docLinkHtml = 'Like what you see? Visit the ' +\n",
              "            '<a target=\"_blank\" href=https://colab.research.google.com/notebooks/data_table.ipynb>data table notebook</a>'\n",
              "            + ' to learn more about interactive tables.';\n",
              "          element.innerHTML = '';\n",
              "          dataTable['output_type'] = 'display_data';\n",
              "          await google.colab.output.renderOutput(dataTable, element);\n",
              "          const docLink = document.createElement('div');\n",
              "          docLink.innerHTML = docLinkHtml;\n",
              "          element.appendChild(docLink);\n",
              "        }\n",
              "      </script>\n",
              "    </div>\n",
              "  </div>\n",
              "  "
            ],
            "text/plain": [
              "   age          workclass  fnlwgt  ... hours_per_week  native_country  income\n",
              "0   39          State-gov   77516  ...             40   United-States   <=50K\n",
              "1   50   Self-emp-not-inc   83311  ...             13   United-States   <=50K\n",
              "2   38            Private  215646  ...             40   United-States   <=50K\n",
              "3   53            Private  234721  ...             40   United-States   <=50K\n",
              "4   28            Private  338409  ...             40            Cuba   <=50K\n",
              "\n",
              "[5 rows x 15 columns]"
            ]
          },
          "metadata": {},
          "execution_count": 57
        }
      ]
    },
    {
      "cell_type": "code",
      "source": [
        "data.dtypes"
      ],
      "metadata": {
        "colab": {
          "base_uri": "https://localhost:8080/"
        },
        "id": "SK6ExC7Pl46o",
        "outputId": "01c259f6-e091-4766-bbc4-27f0fc06ffdf"
      },
      "execution_count": 58,
      "outputs": [
        {
          "output_type": "execute_result",
          "data": {
            "text/plain": [
              "age                int64\n",
              "workclass         object\n",
              "fnlwgt             int64\n",
              "education         object\n",
              "education_num      int64\n",
              "marital_status    object\n",
              "occupation        object\n",
              "relationship      object\n",
              "race              object\n",
              "sex               object\n",
              "capital_gain       int64\n",
              "capital_loss       int64\n",
              "hours_per_week     int64\n",
              "native_country    object\n",
              "income            object\n",
              "dtype: object"
            ]
          },
          "metadata": {},
          "execution_count": 58
        }
      ]
    },
    {
      "cell_type": "code",
      "source": [
        "#feature의 obect형 전부 정수형으로 인코딩\n",
        "le = LabelEncoder()\n",
        "data.workclass = le.fit_transform(data.workclass)\n",
        "data.education = le.fit_transform(data.education)\n",
        "data.marital_status = le.fit_transform(data.marital_status)\n",
        "data.occupation = le.fit_transform(data.occupation)\n",
        "data.relationship = le.fit_transform(data.relationship)\n",
        "data.race = le.fit_transform(data.race)\n",
        "data.sex = le.fit_transform(data.sex)\n",
        "data.native_country = le.fit_transform(data.native_country)\n",
        "data.income = le.fit_transform(data.income)"
      ],
      "metadata": {
        "id": "TZo6TuAq2l50"
      },
      "execution_count": 59,
      "outputs": []
    },
    {
      "cell_type": "code",
      "source": [
        "data.head()"
      ],
      "metadata": {
        "colab": {
          "base_uri": "https://localhost:8080/",
          "height": 206
        },
        "id": "3CKwiWtd4fid",
        "outputId": "8b264b2b-fd6b-4b95-95b3-9443a5a7776d"
      },
      "execution_count": 60,
      "outputs": [
        {
          "output_type": "execute_result",
          "data": {
            "text/html": [
              "\n",
              "  <div id=\"df-61766b2c-754e-46ab-b327-a928609943e2\">\n",
              "    <div class=\"colab-df-container\">\n",
              "      <div>\n",
              "<style scoped>\n",
              "    .dataframe tbody tr th:only-of-type {\n",
              "        vertical-align: middle;\n",
              "    }\n",
              "\n",
              "    .dataframe tbody tr th {\n",
              "        vertical-align: top;\n",
              "    }\n",
              "\n",
              "    .dataframe thead th {\n",
              "        text-align: right;\n",
              "    }\n",
              "</style>\n",
              "<table border=\"1\" class=\"dataframe\">\n",
              "  <thead>\n",
              "    <tr style=\"text-align: right;\">\n",
              "      <th></th>\n",
              "      <th>age</th>\n",
              "      <th>workclass</th>\n",
              "      <th>fnlwgt</th>\n",
              "      <th>education</th>\n",
              "      <th>education_num</th>\n",
              "      <th>marital_status</th>\n",
              "      <th>occupation</th>\n",
              "      <th>relationship</th>\n",
              "      <th>race</th>\n",
              "      <th>sex</th>\n",
              "      <th>capital_gain</th>\n",
              "      <th>capital_loss</th>\n",
              "      <th>hours_per_week</th>\n",
              "      <th>native_country</th>\n",
              "      <th>income</th>\n",
              "    </tr>\n",
              "  </thead>\n",
              "  <tbody>\n",
              "    <tr>\n",
              "      <th>0</th>\n",
              "      <td>39</td>\n",
              "      <td>7</td>\n",
              "      <td>77516</td>\n",
              "      <td>9</td>\n",
              "      <td>13</td>\n",
              "      <td>4</td>\n",
              "      <td>1</td>\n",
              "      <td>1</td>\n",
              "      <td>4</td>\n",
              "      <td>1</td>\n",
              "      <td>2174</td>\n",
              "      <td>0</td>\n",
              "      <td>40</td>\n",
              "      <td>39</td>\n",
              "      <td>0</td>\n",
              "    </tr>\n",
              "    <tr>\n",
              "      <th>1</th>\n",
              "      <td>50</td>\n",
              "      <td>6</td>\n",
              "      <td>83311</td>\n",
              "      <td>9</td>\n",
              "      <td>13</td>\n",
              "      <td>2</td>\n",
              "      <td>4</td>\n",
              "      <td>0</td>\n",
              "      <td>4</td>\n",
              "      <td>1</td>\n",
              "      <td>0</td>\n",
              "      <td>0</td>\n",
              "      <td>13</td>\n",
              "      <td>39</td>\n",
              "      <td>0</td>\n",
              "    </tr>\n",
              "    <tr>\n",
              "      <th>2</th>\n",
              "      <td>38</td>\n",
              "      <td>4</td>\n",
              "      <td>215646</td>\n",
              "      <td>11</td>\n",
              "      <td>9</td>\n",
              "      <td>0</td>\n",
              "      <td>6</td>\n",
              "      <td>1</td>\n",
              "      <td>4</td>\n",
              "      <td>1</td>\n",
              "      <td>0</td>\n",
              "      <td>0</td>\n",
              "      <td>40</td>\n",
              "      <td>39</td>\n",
              "      <td>0</td>\n",
              "    </tr>\n",
              "    <tr>\n",
              "      <th>3</th>\n",
              "      <td>53</td>\n",
              "      <td>4</td>\n",
              "      <td>234721</td>\n",
              "      <td>1</td>\n",
              "      <td>7</td>\n",
              "      <td>2</td>\n",
              "      <td>6</td>\n",
              "      <td>0</td>\n",
              "      <td>2</td>\n",
              "      <td>1</td>\n",
              "      <td>0</td>\n",
              "      <td>0</td>\n",
              "      <td>40</td>\n",
              "      <td>39</td>\n",
              "      <td>0</td>\n",
              "    </tr>\n",
              "    <tr>\n",
              "      <th>4</th>\n",
              "      <td>28</td>\n",
              "      <td>4</td>\n",
              "      <td>338409</td>\n",
              "      <td>9</td>\n",
              "      <td>13</td>\n",
              "      <td>2</td>\n",
              "      <td>10</td>\n",
              "      <td>5</td>\n",
              "      <td>2</td>\n",
              "      <td>0</td>\n",
              "      <td>0</td>\n",
              "      <td>0</td>\n",
              "      <td>40</td>\n",
              "      <td>5</td>\n",
              "      <td>0</td>\n",
              "    </tr>\n",
              "  </tbody>\n",
              "</table>\n",
              "</div>\n",
              "      <button class=\"colab-df-convert\" onclick=\"convertToInteractive('df-61766b2c-754e-46ab-b327-a928609943e2')\"\n",
              "              title=\"Convert this dataframe to an interactive table.\"\n",
              "              style=\"display:none;\">\n",
              "        \n",
              "  <svg xmlns=\"http://www.w3.org/2000/svg\" height=\"24px\"viewBox=\"0 0 24 24\"\n",
              "       width=\"24px\">\n",
              "    <path d=\"M0 0h24v24H0V0z\" fill=\"none\"/>\n",
              "    <path d=\"M18.56 5.44l.94 2.06.94-2.06 2.06-.94-2.06-.94-.94-2.06-.94 2.06-2.06.94zm-11 1L8.5 8.5l.94-2.06 2.06-.94-2.06-.94L8.5 2.5l-.94 2.06-2.06.94zm10 10l.94 2.06.94-2.06 2.06-.94-2.06-.94-.94-2.06-.94 2.06-2.06.94z\"/><path d=\"M17.41 7.96l-1.37-1.37c-.4-.4-.92-.59-1.43-.59-.52 0-1.04.2-1.43.59L10.3 9.45l-7.72 7.72c-.78.78-.78 2.05 0 2.83L4 21.41c.39.39.9.59 1.41.59.51 0 1.02-.2 1.41-.59l7.78-7.78 2.81-2.81c.8-.78.8-2.07 0-2.86zM5.41 20L4 18.59l7.72-7.72 1.47 1.35L5.41 20z\"/>\n",
              "  </svg>\n",
              "      </button>\n",
              "      \n",
              "  <style>\n",
              "    .colab-df-container {\n",
              "      display:flex;\n",
              "      flex-wrap:wrap;\n",
              "      gap: 12px;\n",
              "    }\n",
              "\n",
              "    .colab-df-convert {\n",
              "      background-color: #E8F0FE;\n",
              "      border: none;\n",
              "      border-radius: 50%;\n",
              "      cursor: pointer;\n",
              "      display: none;\n",
              "      fill: #1967D2;\n",
              "      height: 32px;\n",
              "      padding: 0 0 0 0;\n",
              "      width: 32px;\n",
              "    }\n",
              "\n",
              "    .colab-df-convert:hover {\n",
              "      background-color: #E2EBFA;\n",
              "      box-shadow: 0px 1px 2px rgba(60, 64, 67, 0.3), 0px 1px 3px 1px rgba(60, 64, 67, 0.15);\n",
              "      fill: #174EA6;\n",
              "    }\n",
              "\n",
              "    [theme=dark] .colab-df-convert {\n",
              "      background-color: #3B4455;\n",
              "      fill: #D2E3FC;\n",
              "    }\n",
              "\n",
              "    [theme=dark] .colab-df-convert:hover {\n",
              "      background-color: #434B5C;\n",
              "      box-shadow: 0px 1px 3px 1px rgba(0, 0, 0, 0.15);\n",
              "      filter: drop-shadow(0px 1px 2px rgba(0, 0, 0, 0.3));\n",
              "      fill: #FFFFFF;\n",
              "    }\n",
              "  </style>\n",
              "\n",
              "      <script>\n",
              "        const buttonEl =\n",
              "          document.querySelector('#df-61766b2c-754e-46ab-b327-a928609943e2 button.colab-df-convert');\n",
              "        buttonEl.style.display =\n",
              "          google.colab.kernel.accessAllowed ? 'block' : 'none';\n",
              "\n",
              "        async function convertToInteractive(key) {\n",
              "          const element = document.querySelector('#df-61766b2c-754e-46ab-b327-a928609943e2');\n",
              "          const dataTable =\n",
              "            await google.colab.kernel.invokeFunction('convertToInteractive',\n",
              "                                                     [key], {});\n",
              "          if (!dataTable) return;\n",
              "\n",
              "          const docLinkHtml = 'Like what you see? Visit the ' +\n",
              "            '<a target=\"_blank\" href=https://colab.research.google.com/notebooks/data_table.ipynb>data table notebook</a>'\n",
              "            + ' to learn more about interactive tables.';\n",
              "          element.innerHTML = '';\n",
              "          dataTable['output_type'] = 'display_data';\n",
              "          await google.colab.output.renderOutput(dataTable, element);\n",
              "          const docLink = document.createElement('div');\n",
              "          docLink.innerHTML = docLinkHtml;\n",
              "          element.appendChild(docLink);\n",
              "        }\n",
              "      </script>\n",
              "    </div>\n",
              "  </div>\n",
              "  "
            ],
            "text/plain": [
              "   age  workclass  fnlwgt  ...  hours_per_week  native_country  income\n",
              "0   39          7   77516  ...              40              39       0\n",
              "1   50          6   83311  ...              13              39       0\n",
              "2   38          4  215646  ...              40              39       0\n",
              "3   53          4  234721  ...              40              39       0\n",
              "4   28          4  338409  ...              40               5       0\n",
              "\n",
              "[5 rows x 15 columns]"
            ]
          },
          "metadata": {},
          "execution_count": 60
        }
      ]
    },
    {
      "cell_type": "markdown",
      "source": [
        "##C. 0-R rule 분석 \n",
        "- 본격적으로 시작하기 이전에, 다른 모든 feautre들을 무시하고 오직 label로만 분류를 해서 앞으로 모델의 baseline이 될 성능을 분석한다."
      ],
      "metadata": {
        "id": "mQSKNDiu9JBf"
      }
    },
    {
      "cell_type": "code",
      "source": [
        "data['income'].value_counts(sort=True)"
      ],
      "metadata": {
        "colab": {
          "base_uri": "https://localhost:8080/"
        },
        "id": "tlExSzmo8MOW",
        "outputId": "1ae5f769-8ea8-4dea-db9f-798307c84a97"
      },
      "execution_count": 81,
      "outputs": [
        {
          "output_type": "execute_result",
          "data": {
            "text/plain": [
              "0    24720\n",
              "1     7841\n",
              "Name: income, dtype: int64"
            ]
          },
          "metadata": {},
          "execution_count": 81
        }
      ]
    },
    {
      "cell_type": "code",
      "source": [
        "print('income이 $50,000보다 낮은 것\"으로 예측하는 ZeroR 모델의 정확도: ', 24720 / (24720 + 7841))\n",
        "print('income이 $50,000보다 높은 것\"으로 예측하는 ZeroR 모델의 정확도: ', 7841 / (24720 + 7841))"
      ],
      "metadata": {
        "colab": {
          "base_uri": "https://localhost:8080/"
        },
        "id": "YYKxoMUR8iEU",
        "outputId": "dc34d6de-f615-4819-9477-b2b3c674333e"
      },
      "execution_count": 43,
      "outputs": [
        {
          "output_type": "stream",
          "name": "stdout",
          "text": [
            "income이 $50,000보다 낮은 것\"으로 예측하는 ZeroR 모델의 정확도:  0.7591904425539756\n",
            "income이 $50,000보다 높은 것\"으로 예측하는 ZeroR 모델의 정확도:  0.2408095574460244\n"
          ]
        }
      ]
    },
    {
      "cell_type": "markdown",
      "source": [
        "# D. 실험 방법 & Split Data\n",
        "\n",
        "#### 1. 실험 방법\n",
        "- Data를 각각 Train set 과 Test set으로 split한다.\n",
        "\n",
        "- Split 후 Train data를 train data와 validation data로 split을 해줘서 모델을 훈련 시켜준다.\n",
        "\n",
        "- 모델을 생성한다.\n",
        "  1. Decision Tree\n",
        "  2. Random Forest(Ensemble Method)\n",
        "  3. Multilayer Perceptron(MLP)\n",
        "\n",
        "- Parameter에 변경을 주면서 최적의 parameter를 찾을 수 있게 훈련시킨다.\n",
        "\n",
        "- 최적의 Parameter를 가진 각각의 모델을 선정한다.\n",
        "  - 이때 validation data를 사용해서 성능을 보여주게 한다. 각각의 모델별로 최적의 parameter를 가진 모델을 고른다.\n",
        "\n",
        "- Test set에 대하여 각각의 최종 모델의 성능을 평가한다. "
      ],
      "metadata": {
        "id": "nC1jYK3x_OCf"
      }
    },
    {
      "cell_type": "code",
      "source": [
        "# split data\n",
        "y = data[['income']]\n",
        "x = data.drop(columns = ['income'])\n",
        "\n",
        "x_train, x_test, y_train, y_test = train_test_split(x, y, test_size = .3)\n",
        "\n",
        "x_train, x_val, y_train, y_val = train_test_split(x_train, y_train, test_size = .4)\n"
      ],
      "metadata": {
        "id": "aHw60cyO4Wiy"
      },
      "execution_count": 71,
      "outputs": []
    },
    {
      "cell_type": "markdown",
      "source": [
        "# E. 모델 생성 & Parameter 조정 과정"
      ],
      "metadata": {
        "id": "zb1O8SVZArWc"
      }
    },
    {
      "cell_type": "markdown",
      "source": [
        "## 1. Decision Tree\n",
        "- 기본 default 값으로 진행해 보았다.\n"
      ],
      "metadata": {
        "id": "beNPy7hxChP1"
      }
    },
    {
      "cell_type": "code",
      "source": [
        "# DecisionTreeClassifier: Default\n",
        "classifier = DecisionTreeClassifier()\n",
        "classifier.fit(x_train, y_train)\n",
        "print(classifier.score(x_val, y_val))"
      ],
      "metadata": {
        "colab": {
          "base_uri": "https://localhost:8080/"
        },
        "id": "9xXwP-B7_vG_",
        "outputId": "aa7dd865-1288-4f53-dbb2-6c62024d4b43"
      },
      "execution_count": 87,
      "outputs": [
        {
          "output_type": "stream",
          "name": "stdout",
          "text": [
            "0.8065153010858835\n"
          ]
        }
      ]
    },
    {
      "cell_type": "markdown",
      "source": [
        "- parameter pruning을 각각의 parameter별로 진행해 본다."
      ],
      "metadata": {
        "id": "PK8BuZzIIes2"
      }
    },
    {
      "cell_type": "code",
      "source": [
        "#max_leaf_nodes 조정\n",
        "classifier_max_leaf_nodes = DecisionTreeClassifier(max_leaf_nodes=25) \n",
        "classifier_max_leaf_nodes.fit(x_train, y_train)\n",
        "\n",
        "#max_depth 조정\n",
        "classifier_max_depth = DecisionTreeClassifier(max_depth=6)\n",
        "classifier_max_depth.fit(x_train, y_train)\n",
        "\n",
        "#min_samples_split 조정\n",
        "classifier_min_samples_split = DecisionTreeClassifier(min_samples_split=60) #min_samples_split\n",
        "classifier_min_samples_split.fit(x_train, y_train)\n",
        "\n",
        "#min_samples_leaf 조정\n",
        "classifier_min_samples_leaf = DecisionTreeClassifier(min_samples_leaf = 30) #min_samples_leaf\n",
        "classifier_min_samples_leaf.fit(x_train, y_train)\n",
        "\n",
        "#모든 parameter 조정 값 합산\n",
        "classifier_mix = DecisionTreeClassifier(max_leaf_nodes = 25, max_depth = 6, min_samples_leaf = 30, min_samples_split = 60)\n",
        "classifier_mix.fit(x_train, y_train)\n",
        "\n",
        "\n"
      ],
      "metadata": {
        "colab": {
          "base_uri": "https://localhost:8080/"
        },
        "id": "7JffjnlcEkZm",
        "outputId": "64d4af27-6418-4e04-a276-2a346f77f60f"
      },
      "execution_count": 88,
      "outputs": [
        {
          "output_type": "execute_result",
          "data": {
            "text/plain": [
              "DecisionTreeClassifier(max_depth=6, max_leaf_nodes=25, min_samples_leaf=30,\n",
              "                       min_samples_split=60)"
            ]
          },
          "metadata": {},
          "execution_count": 88
        }
      ]
    },
    {
      "cell_type": "markdown",
      "source": [
        "- 각각의 pruning 모델들을 validation data를 통해서 성능(accuracy)를 출력해본다."
      ],
      "metadata": {
        "id": "wy5w35xWV81p"
      }
    },
    {
      "cell_type": "code",
      "source": [
        "print(\"Accuracy non-pruning:\", classifier.score(x_val, y_val))\n",
        "print(\"Accuracy max_leaf_node:\", classifier_max_leaf_nodes.score(x_val, y_val))\n",
        "print(\"Accuracy max_depth:\", classifier_max_depth.score(x_val, y_val))\n",
        "print(\"Accuracy min_samples_split:\", classifier_min_samples_split.score(x_val, y_val))\n",
        "print(\"Accuracy min_samples_leaf:\", classifier_min_samples_leaf.score(x_val, y_val))\n",
        "print(\"Accuracy final:\", classifier_mix.score(x_val, y_val))"
      ],
      "metadata": {
        "colab": {
          "base_uri": "https://localhost:8080/"
        },
        "id": "1j9jFpwmI-I4",
        "outputId": "3c5cfb9f-23e9-4873-aa80-5ce82be6dd74"
      },
      "execution_count": 89,
      "outputs": [
        {
          "output_type": "stream",
          "name": "stdout",
          "text": [
            "Accuracy non-pruning: 0.8065153010858835\n",
            "Accuracy max_leaf_node: 0.8543380497970824\n",
            "Accuracy max_depth: 0.8479763079960513\n",
            "Accuracy min_samples_split: 0.8424920478227487\n",
            "Accuracy min_samples_leaf: 0.8484150488099156\n",
            "Accuracy final: 0.8474278819787211\n"
          ]
        }
      ]
    },
    {
      "cell_type": "markdown",
      "source": [
        "1. 총 5개의 Decision Tree를 만들어서 Parameter 값에 변화를 주었다. \n",
        "  - overfitting을 막기 위해 max_depth 그리고 max_leaf_nodes 값을 default 값인 무제한에서 제한을 두었다. 그 결과 pruning을 진행하지 않은 Tree 보다 좋은 성능을 보였다.\n",
        "\n",
        "  - min_samples_leaf 그리고 min_samples_split은 작게 설정할수록 분할하는 노드가 많아져서 overfitting 될 가능성이 높기 때문에 defalut 값인 1과 2에서 각각 증가 시켜주었다. 그 결과 pruning을 하지 않은 모델보다 accuracy에서 좋은 성능을 보였다.\n",
        "\n",
        "  - 마지막으로 각각의 최적의 Parameter 값들을 한번 조합시켜서 최적의 성능을 보이는지 확인하기 위해서 모델을 만들어 봤다. 그 결과 overfitting이 되어서 근소한 차이로 더 낮은 성능을 보였다.\n",
        "\n",
        "2. 결론: 결과적으로 pruning을 진행한 모델 트리들이 pruning을 안한 tree보다 좋은 성능을 보였고, 그 중 max_leaf_node를 25로 조정한 모델 트리가 가장 좋은 성능(accuracy)를 보였다."
      ],
      "metadata": {
        "id": "hiWqClqMNd1t"
      }
    },
    {
      "cell_type": "markdown",
      "source": [
        "## 2. Random Forest(Ensemble Method)\n",
        "- 기본 default 값으로 진행해 보았다."
      ],
      "metadata": {
        "id": "hKtKZZU9Qw2y"
      }
    },
    {
      "cell_type": "code",
      "source": [
        "forest_default = RandomForestClassifier(random_state=42)\n",
        "forest_default.fit(x_train, y_train)\n",
        "print(forest_default.score(x_val, y_val))"
      ],
      "metadata": {
        "colab": {
          "base_uri": "https://localhost:8080/"
        },
        "id": "ric7v8e8UYQe",
        "outputId": "844cbe61-bb54-4092-ef48-e91f9fdccc95"
      },
      "execution_count": 117,
      "outputs": [
        {
          "output_type": "stream",
          "name": "stdout",
          "text": [
            "0.857847976307996\n"
          ]
        }
      ]
    },
    {
      "cell_type": "markdown",
      "source": [
        "- parameter pruning을 각각의 parameter별로 진행해 본다."
      ],
      "metadata": {
        "id": "J-dQvfNaU-zy"
      }
    },
    {
      "cell_type": "code",
      "source": [
        "#max_leaf_nodes 조정\n",
        "forest_max_leaf_nodes = RandomForestClassifier(max_leaf_nodes=25)\n",
        "forest_max_leaf_nodes.fit(x_train, y_train)\n",
        "\n",
        "#max_depth 조정\n",
        "forest_max_depth = RandomForestClassifier(max_depth=6)\n",
        "forest_max_depth.fit(x_train, y_train)\n",
        "\n",
        "#min_samples_split 조정\n",
        "forest_min_samples_split = RandomForestClassifier(min_samples_split=100)\n",
        "forest_min_samples_split.fit(x_train, y_train)\n",
        "\n",
        "#min_samples_leaf 조정\n",
        "forest_min_samples_leaf = RandomForestClassifier(min_samples_leaf = 30)\n",
        "forest_min_samples_leaf.fit(x_train, y_train)\n",
        "\n",
        "#모든 parameter 조정 값 합산\n",
        "forest_mix = RandomForestClassifier(max_leaf_nodes = 25, max_depth = 6, min_samples_leaf = 30, min_samples_split = 100, n_estimators = 200)\n",
        "forest_mix.fit(x_train, y_train)\n",
        "\n",
        "#n_estimator 조정\n",
        "forest_n_estimator = RandomForestClassifier(n_estimators=200)\n",
        "forest_n_estimator.fit(x_train, y_train)"
      ],
      "metadata": {
        "colab": {
          "base_uri": "https://localhost:8080/"
        },
        "id": "wZhfr4vNU_ro",
        "outputId": "b6280980-8b01-4fbc-df07-b1f15b36a1d3"
      },
      "execution_count": 118,
      "outputs": [
        {
          "output_type": "execute_result",
          "data": {
            "text/plain": [
              "RandomForestClassifier(n_estimators=200)"
            ]
          },
          "metadata": {},
          "execution_count": 118
        }
      ]
    },
    {
      "cell_type": "markdown",
      "source": [
        "- 각각의 pruning 모델들을 validation data를 통해서 성능(accuracy)를 출력해본다."
      ],
      "metadata": {
        "id": "ElgiUoAGWE-c"
      }
    },
    {
      "cell_type": "code",
      "source": [
        "print(\"Accuracy non-pruning:\", forest_default.score(x_val, y_val))\n",
        "print(\"Accuracy max_leaf_node:\", forest_max_leaf_nodes.score(x_val, y_val))\n",
        "print(\"Accuracy max_depth:\", forest_max_depth.score(x_val, y_val))\n",
        "print(\"Accuracy min_samples_split:\", forest_min_samples_split.score(x_val, y_val))\n",
        "print(\"Accuracy min_samples_leaf:\", forest_min_samples_leaf.score(x_val, y_val))\n",
        "print(\"Accuracy n_estimator:\", forest_n_estimator.score(x_val, y_val))\n",
        "print(\"Accuracy final:\", forest_mix.score(x_val, y_val))\n"
      ],
      "metadata": {
        "colab": {
          "base_uri": "https://localhost:8080/"
        },
        "id": "-ONArE6aWH-o",
        "outputId": "0403ae91-1067-4e62-8deb-f50322fe3f10"
      },
      "execution_count": 119,
      "outputs": [
        {
          "output_type": "stream",
          "name": "stdout",
          "text": [
            "Accuracy non-pruning: 0.857847976307996\n",
            "Accuracy max_leaf_node: 0.8517056049138971\n",
            "Accuracy max_depth: 0.8544477350005484\n",
            "Accuracy min_samples_split: 0.86190632883624\n",
            "Accuracy min_samples_leaf: 0.8572995502906657\n",
            "Accuracy n_estimator: 0.8568608094768015\n",
            "Accuracy final: 0.8506087528792365\n"
          ]
        }
      ]
    },
    {
      "cell_type": "markdown",
      "source": [
        "1. 총 7개의 Random forest를 만들어서 Parameter 값에 변화를 주었다. \n",
        "  - Random Forest의 아아디어는 잘 작동하되 서로 다른 방향으로 과대적합된 트리를 많이 만들면 그 결과를 평균냄으로써 과대적합된 양을 줄이고 결과적으로 트리 모델의 예측 성능을 유지하면서 overfitting을 줄이는 것이다.\n",
        "\n",
        "  - 따라서 이전 Decision 트리 모델에서 찾은 최적의 parameter 값으로 Random Forest에서 parameter pruning을 진행해 보았다. 그 결과, min_samples_split만이 기본 모델보다 좋은 성능을 보였고, 나머지 pruning parameter 모델들은 근소한 차이로 기본 모델보다 낮은 성능을 보였다. \n",
        "\n",
        "\n",
        "2. 결론: 기본적으로 랜덤 포레스트는 성능이 매우 뛰어나고 매개변수 튜닝을 많이 하지 않아도 잘 작동한다. 따라서 일반적으로는 기본값을 쓰는 것이 가장 좋은 방법이다. 하지만 이번 실험에서는 그래도 min_samples_split parameter를 100으로 조정한 모델이 가장 좋은 성능(accuracy)를 보였다."
      ],
      "metadata": {
        "id": "ApjVjt_JbTIt"
      }
    },
    {
      "cell_type": "markdown",
      "source": [
        "###Feature Selection(Random Forest)\n",
        "- 추가로 Random Forest Classifier를 사용해서 feature의 중요도를 계산해 본다.\n",
        "\n",
        "- SelectFromModel을 사용해서 특정 threshold를 넘는 특성만 선택하도록 한다."
      ],
      "metadata": {
        "id": "FA8MF83nQ2it"
      }
    },
    {
      "cell_type": "code",
      "source": [
        "from sklearn.feature_selection import SelectFromModel\n",
        "# MLPClassifier와 SelectFromModel을 이용하여 중요한 특성을 선택합니다.\n",
        "select = SelectFromModel(RandomForestClassifier(n_estimators=100, random_state = 42), threshold='median')\n",
        "\n",
        "select.fit(x_train, y_train)\n",
        "x_train_l1 = select.transform(x_train)\n",
        "x_val_l1 = select.transform(x_val)\n",
        "print(\"x_train.shape:\", x_train.shape)\n",
        "print(\"x_train_l1.shape:\", x_train_l1.shape)\n",
        "print(\"x_val.shape:\", x_val.shape)\n",
        "print(\"x_val_l1.shape:\", x_val_l1.shape)"
      ],
      "metadata": {
        "colab": {
          "base_uri": "https://localhost:8080/"
        },
        "id": "fROvDBmjfAf-",
        "outputId": "1355649f-f9ee-4018-a5d5-c879fc3f8c92"
      },
      "execution_count": 72,
      "outputs": [
        {
          "output_type": "stream",
          "name": "stdout",
          "text": [
            "x_train.shape: (13675, 14)\n",
            "x_train_l1.shape: (13675, 7)\n",
            "x_val.shape: (9117, 14)\n",
            "x_val_l1.shape: (9117, 7)\n"
          ]
        }
      ]
    },
    {
      "cell_type": "markdown",
      "source": [
        "#### Feature Selection을 진행한 Random Forest 모델 결과 출력"
      ],
      "metadata": {
        "id": "r0qVthgqRW6T"
      }
    },
    {
      "cell_type": "code",
      "source": [
        "feature_selection = RandomForestClassifier(min_samples_split = 100)\n",
        "feature_selection.fit(x_train_l1, y_train)\n",
        "print(\"score: \", feature_selection.score(x_val_l1, y_val))"
      ],
      "metadata": {
        "colab": {
          "base_uri": "https://localhost:8080/"
        },
        "id": "ft2K3v-OgbF_",
        "outputId": "180949f6-bfd4-48a3-e0b5-9dc0e3742d3d"
      },
      "execution_count": 74,
      "outputs": [
        {
          "output_type": "stream",
          "name": "stdout",
          "text": [
            "score:  0.8533508829658879\n"
          ]
        }
      ]
    },
    {
      "cell_type": "markdown",
      "source": [
        "#### 결론\n",
        "- 기존에 선정했던 최적의 parameter pruning을 반영한 Random Forest에 feature selection을 진행한 결과 기존의 Random Forest의 최적의 모델의 결과보다 낮게 나왔다. 이는 Random Forest의 feature를 반으로 제거했기 때문에 accuracy가 낮게 나온 것으로 추측이 된다."
      ],
      "metadata": {
        "id": "NH9-suLQRjVh"
      }
    },
    {
      "cell_type": "markdown",
      "source": [
        "## 3. MLP(Multi-Layer-Perceptron)\n",
        "- 이전에 전처리 했던 데이터와는 다르게 전처리를 진행하기 위해 다시 새로 데이터를 url을 통해서 가져온다."
      ],
      "metadata": {
        "id": "ldcv-Z5Gf7-g"
      }
    },
    {
      "cell_type": "code",
      "source": [
        "#columns 이름 지정\n",
        "columns = ['age', 'workclass', 'fnlwgt', 'education', 'education_num', 'marital_status', 'occupation', 'relationship', 'race', 'sex', 'capital_gain', 'capital_loss', 'hours_per_week', 'native_country', 'income']\n",
        "url = \"https://archive.ics.uci.edu/ml/machine-learning-databases/adult/adult.data\"\n",
        "data_mlp = pd.read_csv(url, header = None, names = columns, index_col = False)\n",
        "\n",
        "#missing value drop\n",
        "data_mlp = data_mlp.dropna()"
      ],
      "metadata": {
        "id": "L8kdfX4UlV9G"
      },
      "execution_count": 75,
      "outputs": []
    },
    {
      "cell_type": "code",
      "source": [
        "data_mlp.dtypes"
      ],
      "metadata": {
        "colab": {
          "base_uri": "https://localhost:8080/"
        },
        "id": "upX79pUallp6",
        "outputId": "a16b2d6b-abee-4ead-fad3-9d1a33e393b6"
      },
      "execution_count": 76,
      "outputs": [
        {
          "output_type": "execute_result",
          "data": {
            "text/plain": [
              "age                int64\n",
              "workclass         object\n",
              "fnlwgt             int64\n",
              "education         object\n",
              "education_num      int64\n",
              "marital_status    object\n",
              "occupation        object\n",
              "relationship      object\n",
              "race              object\n",
              "sex               object\n",
              "capital_gain       int64\n",
              "capital_loss       int64\n",
              "hours_per_week     int64\n",
              "native_country    object\n",
              "income            object\n",
              "dtype: object"
            ]
          },
          "metadata": {},
          "execution_count": 76
        }
      ]
    },
    {
      "cell_type": "markdown",
      "source": [
        "### MLP 데이터 전처리\n",
        "- feature 중에 object data type들은 one-hot encoding을 해준다\n",
        "\n",
        "- 'Sex' feature는 정수형으로 인코딩 해준다.\n",
        "\n",
        "- 'income' feature도 정수형으로 인코딩 해준다."
      ],
      "metadata": {
        "id": "PR-v5Ipb94_m"
      }
    },
    {
      "cell_type": "code",
      "source": [
        "#'sex', 'income' 정수형으로 인코딩\n",
        "le = LabelEncoder()\n",
        "data_mlp.sex = le.fit_transform(data_mlp.sex)\n",
        "data.income = le.fit_transform(data.income)\n",
        "#나머지 feature one-hot encoding 진행\n",
        "object_columns = ['workclass', 'education', 'marital_status', 'occupation', 'relationship', 'race', 'native_country']\n",
        "def onehot(data, feature):\n",
        "  '''\n",
        "  data의 feature column을 one hot으로 변환해줍니다.\n",
        "  data: pandas DataFrame\n",
        "  feature: string, 데이터 프레임의 column 이름\n",
        "  '''\n",
        "  return pd.concat([data, pd.get_dummies(data[feature], prefix=feature)], axis=1).drop([feature], axis=1)\n",
        "\n",
        "for col in object_columns:\n",
        "  data_mlp = onehot(data_mlp, col)"
      ],
      "metadata": {
        "id": "ufQN8ycwlnrB"
      },
      "execution_count": 77,
      "outputs": []
    },
    {
      "cell_type": "code",
      "source": [
        "data_mlp.dtypes"
      ],
      "metadata": {
        "colab": {
          "base_uri": "https://localhost:8080/"
        },
        "id": "Xonqj8hhm-JY",
        "outputId": "c31e7ff9-0514-4ad4-eb30-defcdb84da77"
      },
      "execution_count": 78,
      "outputs": [
        {
          "output_type": "execute_result",
          "data": {
            "text/plain": [
              "age                                int64\n",
              "fnlwgt                             int64\n",
              "education_num                      int64\n",
              "sex                                int64\n",
              "capital_gain                       int64\n",
              "                                   ...  \n",
              "native_country_ Thailand           uint8\n",
              "native_country_ Trinadad&Tobago    uint8\n",
              "native_country_ United-States      uint8\n",
              "native_country_ Vietnam            uint8\n",
              "native_country_ Yugoslavia         uint8\n",
              "Length: 108, dtype: object"
            ]
          },
          "metadata": {},
          "execution_count": 78
        }
      ]
    },
    {
      "cell_type": "markdown",
      "source": [
        "###MLP data split\n",
        "- 데이터를 train set, validation set, test set으로 나눠준다."
      ],
      "metadata": {
        "id": "pGyyrxlc-JVn"
      }
    },
    {
      "cell_type": "code",
      "source": [
        "# split data\n",
        "y_mlp = data_mlp[['income']]\n",
        "x_mlp = data_mlp.drop(columns = ['income'])\n",
        "\n",
        "x_train_mlp, x_test_mlp, y_train_mlp, y_test_mlp = train_test_split(x_mlp, y_mlp, test_size = .3)\n",
        "\n",
        "x_train_mlp, x_val_mlp, y_train_mlp, y_val_mlp = train_test_split(x_train_mlp, y_train_mlp, test_size = .4)\n"
      ],
      "metadata": {
        "id": "leyYZLjqm_nE"
      },
      "execution_count": 79,
      "outputs": []
    },
    {
      "cell_type": "markdown",
      "source": [
        "- 기본 default 값으로 진행해 보았다."
      ],
      "metadata": {
        "id": "9WbdUO3EB8fl"
      }
    },
    {
      "cell_type": "code",
      "source": [
        "mlp = MLPClassifier()\n",
        "mlp.fit(x_train_mlp, y_train_mlp)\n",
        "print(mlp.score(x_val_mlp, y_val_mlp))"
      ],
      "metadata": {
        "colab": {
          "base_uri": "https://localhost:8080/"
        },
        "id": "S_npepX3_UeK",
        "outputId": "ecbfb478-acec-4e2d-f5c3-8efd4d6be421"
      },
      "execution_count": 49,
      "outputs": [
        {
          "output_type": "stream",
          "name": "stdout",
          "text": [
            "0.7770099813535154\n"
          ]
        }
      ]
    },
    {
      "cell_type": "markdown",
      "source": [
        "###parameter pruning을 각각의 parameter 조합으로 진행해 본다.\n",
        "\n",
        "-조정할 Parameter는 아래와 같다. \n",
        "\n",
        "  - hidden_layer_sizes: The ith element represents the number of neurons in the ith hidden layer\n",
        "    - tuple, length = n_layers -2, default=(100,)\n",
        "  \n",
        "  - activation: Activation function for the hidden layer\n",
        "    - {'identity','logistic','tanh','relu'}, default = 'relu'\n",
        "\n",
        "  - solver: The solver for weight optimization\n",
        "    - {'lbfgs', 'sgd', 'adam'}, default = 'adam'\n",
        "\n",
        "참고문헌: https://scikit-learn.org/stable/modules/generated/sklearn.neural_network.MLPClassifier.html"
      ],
      "metadata": {
        "id": "YW4JrQC8CBSU"
      }
    },
    {
      "cell_type": "code",
      "source": [
        "#hidden layer size: 100, 2 | activation: identity\n",
        "mlp1 = MLPClassifier(hidden_layer_sizes = (100, 2), max_iter = 1000, activation = 'identity', solver = 'adam')\n",
        "mlp1.fit(x_train_mlp, y_train_mlp)\n",
        "\n",
        "#hidden layer size: 200, 2 | activation: tanh\n",
        "mlp2 = MLPClassifier(hidden_layer_sizes = (200, 2), max_iter = 1000, activation = 'tanh', solver = 'adam')\n",
        "mlp2.fit(x_train_mlp, y_train_mlp)\n",
        "\n",
        "#hidden layer size: 200, 2 | activation: logistic\n",
        "mlp3 = MLPClassifier(hidden_layer_sizes = (200, 2), max_iter = 1000, activation = 'logistic', solver = 'adam')\n",
        "mlp3.fit(x_train_mlp, y_train_mlp)\n",
        "\n",
        "#hidden layer size: 200, 4 | activation: logistic | max_iter = 2000\n",
        "mlp4 = MLPClassifier(hidden_layer_sizes = (200, 4), max_iter = 2000, activation = 'logistic', solver = 'adam')\n",
        "mlp4.fit(x_train_mlp, y_train_mlp)\n",
        "\n",
        "#hidden layer size: 200, 4 | activation: identity | max_iter = 2000\n",
        "mlp5 = MLPClassifier(hidden_layer_sizes = (200, 4), max_iter = 2000, activation = 'identity', solver = 'adam')\n",
        "mlp5.fit(x_train_mlp, y_train_mlp)\n",
        "         \n",
        "#hidden layer size: 200, 4 | activation: tanh\n",
        "mlp6 = MLPClassifier(hidden_layer_sizes = (200, 4), max_iter = 1000, activation = 'tanh', solver = 'adam')\n",
        "mlp6.fit(x_train_mlp, y_train_mlp)"
      ],
      "metadata": {
        "colab": {
          "base_uri": "https://localhost:8080/"
        },
        "id": "u1uTt14lAInf",
        "outputId": "64630be4-38e5-4a4a-f645-726c05d66447"
      },
      "execution_count": 50,
      "outputs": [
        {
          "output_type": "execute_result",
          "data": {
            "text/plain": [
              "MLPClassifier(activation='tanh', hidden_layer_sizes=(200, 4), max_iter=1000)"
            ]
          },
          "metadata": {},
          "execution_count": 50
        }
      ]
    },
    {
      "cell_type": "code",
      "source": [
        "print('default MLP: ', mlp.score(x_val_mlp, y_val_mlp))\n",
        "print('hidden layer size: 100, 2 | activation: identity: ', mlp1.score(x_val_mlp, y_val_mlp))\n",
        "print('hidden layer size: 200, 2 | activation: tanh: ', mlp2.score(x_val_mlp, y_val_mlp))\n",
        "print('hidden layer size: 200, 2 | activation: logistic', mlp3.score(x_val_mlp, y_val_mlp))\n",
        "print('hidden layer size: 200, 4 | activation: logistic | max_iter: 2000:  ', mlp4.score(x_val_mlp, y_val_mlp))\n",
        "print('hidden layer size: 200, 4 | activation: identity | max_iter: 2000:  ', mlp5.score(x_val_mlp, y_val_mlp))\n",
        "print('hidden layer size: 200, 4 | activation: tanh', mlp6.score(x_val_mlp, y_val_mlp))"
      ],
      "metadata": {
        "colab": {
          "base_uri": "https://localhost:8080/"
        },
        "id": "1nuTETuCD3am",
        "outputId": "c230192b-943d-4346-f055-8e4124aaab3e"
      },
      "execution_count": 51,
      "outputs": [
        {
          "output_type": "stream",
          "name": "stdout",
          "text": [
            "default MLP:  0.7770099813535154\n",
            "hidden layer size: 100, 2 | activation: identity:  0.7303937698804431\n",
            "hidden layer size: 200, 2 | activation: tanh:  0.763628386530657\n",
            "hidden layer size: 200, 2 | activation: logistic 0.7617637380717341\n",
            "hidden layer size: 200, 4 | activation: logistic | max_iter: 2000:   0.7626412196994625\n",
            "hidden layer size: 200, 4 | activation: identity | max_iter: 2000:   0.7921465394318307\n",
            "hidden layer size: 200, 4 | activation: tanh 0.7669189426346386\n"
          ]
        }
      ]
    },
    {
      "cell_type": "markdown",
      "source": [
        "총 7개의 MLP를 만들어서 Parameter 값에 변화를 주었다. 이번에는 다른 모델들과는 다르게 각각의 parameter가 아닌 parameter들의 조합으로 진행을 했다. Optimization 방법을 adam으로 고정해 놓은 채, activation 그리고 hidden layer의 크기를 조정해서 최적의 모델을 찾는 실험을 총 7개의 모델을 기준으로 진행했다.\n",
        "\n",
        "1. Hidden layer size: hidden layer size는 어떠한 activation parameter에서도 (100,2) 보다는 (200,2)가 더 좋은 성능을 보였다. 따라서 (200,2)를 고르게 되었고, 추후에 (200,4)로 layer size를 높여서 진행해본 결과, (200,4)가 더 좋은 accuracy를 보여서 (200,4)로 parameter를 조정하게 되었다.\n",
        "\n",
        "2. activation: activation은 여러가지 조합들을 hidden layer 와 맞춰서 진행해 본 결과, 모든 activation이 hidden layer size를 높이면서 조정해 나갈 때 좋은 성능을 보여줬다.\n",
        "\n",
        "3. 결론: 최종적으로 MLP 모델은 hidden layer parameter (200, 4), activation: identity, 그리고 max_iter: 2000으로 pruning을 해주었을 때 가장 좋은 성능을 보였다."
      ],
      "metadata": {
        "id": "QC1deXLmGMLg"
      }
    },
    {
      "cell_type": "markdown",
      "source": [
        "#F. 최종 모델 선정\n",
        "- Test set을 이용해서 각각의 모델의 최종 성능(accuracy)를 비교한다."
      ],
      "metadata": {
        "id": "WV0tDZuHUG5V"
      }
    },
    {
      "cell_type": "code",
      "source": [
        "#Decision Tree\n",
        "Decision_Tree_Final = DecisionTreeClassifier(max_leaf_nodes=25) \n",
        "Decision_Tree_Final.fit(x_train, y_train)\n",
        "\n",
        "#Random Forest\n",
        "Random_Forest_Final = RandomForestClassifier(min_samples_split=100)\n",
        "Random_Forest_Final.fit(x_train, y_train)\n",
        "\n",
        "#MLP\n",
        "MLP_Final = MLPClassifier(hidden_layer_sizes = (200, 4), max_iter = 2000, activation = 'identity', solver = 'adam')\n",
        "MLP_Final.fit(x_train_mlp, y_train_mlp)\n"
      ],
      "metadata": {
        "colab": {
          "base_uri": "https://localhost:8080/"
        },
        "id": "zzPIiT9oVvE5",
        "outputId": "c103bce0-6c06-40d2-d303-4e54fcaac385"
      },
      "execution_count": 84,
      "outputs": [
        {
          "output_type": "execute_result",
          "data": {
            "text/plain": [
              "MLPClassifier(activation='identity', hidden_layer_sizes=(200, 4), max_iter=2000)"
            ]
          },
          "metadata": {},
          "execution_count": 84
        }
      ]
    },
    {
      "cell_type": "code",
      "source": [
        "in#max_leaf_node parameter 조정한 DECESION TREE\n",
        "print(\"Optimal Decision Tree Accuracy: \", Decision_Tree_Final.score(x_test, y_test))\n",
        "\n",
        "#min_samples_split 조정한 RANDOM FOREST\n",
        "print(\"Optimal Random Forest Accuracy:\", Random_Forest_Final.score(x_test, y_test))\n",
        "\n",
        "#hidden layer size: 200, 4 | activation: identity | max_iter = 2000로 조정한 MLP\n",
        "#(MLP는 전처리 과정이 다르기 때문에 다른 test data 사용)\n",
        "print('Optimal MLP Accuracy ', MLP_Final.score(x_test_mlp, y_test_mlp))\n"
      ],
      "metadata": {
        "colab": {
          "base_uri": "https://localhost:8080/"
        },
        "id": "l0prwCUGUZGY",
        "outputId": "efa61f28-ee1f-4583-a62a-4a0671449055"
      },
      "execution_count": 85,
      "outputs": [
        {
          "output_type": "stream",
          "name": "stdout",
          "text": [
            "Optimal Decision Tree Accuracy:  0.8493192752584706\n",
            "Optimal Random Forest Accuracy: 0.8545398710205753\n",
            "Optimal MLP Accuracy  0.7903572525335244\n"
          ]
        }
      ]
    },
    {
      "cell_type": "markdown",
      "source": [
        "## **\"Adult Data에 대해서 연소득이(income)이 $50,000 이상인지 이하인지 예측하는 모델은 Random Forest Model로 선택을 했다. 최종 성능 *0.855*을 보였다.\"**"
      ],
      "metadata": {
        "id": "79Yj9f7uXYUR"
      }
    }
  ]
}