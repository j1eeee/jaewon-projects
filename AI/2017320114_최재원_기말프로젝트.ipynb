{
  "nbformat": 4,
  "nbformat_minor": 0,
  "metadata": {
    "colab": {
      "name": "2017320114_최재원_기말프로젝트.ipynb",
      "provenance": [],
      "collapsed_sections": []
    },
    "kernelspec": {
      "name": "python3",
      "display_name": "Python 3"
    },
    "language_info": {
      "name": "python"
    }
  },
  "cells": [
    {
      "cell_type": "markdown",
      "metadata": {
        "id": "P8B9epy71S01"
      },
      "source": [
        "#2021 인공지능 기말 프로젝트\n",
        "\n",
        "##학번 / 이름:   2017320114 최재원"
      ]
    },
    {
      "cell_type": "markdown",
      "metadata": {
        "id": "d0MwuILQBoG9"
      },
      "source": [
        "# a. 실험 내용에 대한 전체 요약\n",
        "\n",
        "#### 사용한 데이터: Titanic\n",
        "\n",
        "\n",
        "#### 1) 개요\n",
        "타이타닉호는 길이 269m에 무게는 46,328톤이었고, 20층의 높이를 지닌 초호화 여객선이다. 타이타닉호 유람선은 1912년 4월 10일, 2,223명의 승객을 태우고 영국의 Southampton Port에서 출항을 해서 미국 New York을 향한 항해를 하던 중, 대서양의 한복판에 있던 20m 크기의 빙산과의 충돌로 1,514명이 사망한 역대 최악의 해양참사라고 할 수 있다.\n",
        "\n",
        "*출처:https://bisent.tistory.com/289*\n",
        "\n",
        "\n",
        "---\n",
        "\n",
        "\n",
        "#### 2) 목표\n",
        "전처리가 완료된 titanic dataset을 가지고 타이타닉호의 feature에 따라서 생존할(survived) 승객을 예측하는 것이다.\n",
        "\n",
        "\n",
        "---\n",
        "\n",
        "\n",
        "#### 3) 모델\n",
        "1. Decision Tree\n",
        "2. Logistic Regression\n",
        "3. Multilayer Perceptron(MLP)\n",
        "\n",
        "\n",
        "---\n",
        "\n",
        "\n",
        "#### 4) 실험 목차\n",
        "1. 데이터에 대한 EDA(Explanatory Data Analysis) 진행\n",
        "  - EDA 는 pie chart, histogram, kde, bar plot 등 여러 visualization을 통해 진행\n",
        "\n",
        "2. Split Data\n",
        "\n",
        "3. Build and Train Model\n",
        "  - 5-fold cross validatio을 사용해서 최적의 parameter 조정\n",
        "\n",
        "4. 결과 분석 및 모델 선정\n",
        "  - 3가지의 모델에 대해서 최적의 parameter를 가지고 5번 진행\n",
        "\n",
        "\n",
        "---\n",
        "\n",
        "#### 5) 최종 모델 선정\n",
        "1. 각각의 최적의 Parameter가 정해진 모델들에 대해서 test set으로 최종 성능(accuracy, precision, recall, f1_score, auroc score) 비교\n",
        "\n",
        "2. 최종적으로 Logistic Regression 모델 선정\n",
        "\n",
        "\n"
      ]
    },
    {
      "cell_type": "markdown",
      "metadata": {
        "id": "UhaFWFFOkkTs"
      },
      "source": [
        "#### 데이터 가져오기"
      ]
    },
    {
      "cell_type": "code",
      "metadata": {
        "id": "UTR9Zhu01iSO"
      },
      "source": [
        "# 1. import statements\n",
        "import numpy as np\n",
        "import pandas as pd\n",
        "import seaborn as sns\n",
        "import matplotlib.pyplot as plt\n",
        "np.set_printoptions(suppress = True)\n",
        "\n",
        "from sklearn.model_selection import train_test_split\n",
        "from sklearn.tree import DecisionTreeClassifier\n",
        "from sklearn.linear_model import LogisticRegression\n",
        "from sklearn.neural_network import MLPClassifier\n",
        "from sklearn.model_selection import cross_validate\n",
        "\n",
        "from sklearn.metrics import plot_confusion_matrix\n",
        "from sklearn.metrics import precision_score\n",
        "from sklearn.metrics import recall_score\n",
        "from sklearn.metrics import f1_score\n",
        "from sklearn.metrics import roc_auc_score\n",
        "from sklearn.metrics import plot_roc_curve"
      ],
      "execution_count": 2,
      "outputs": []
    },
    {
      "cell_type": "code",
      "metadata": {
        "id": "IYqX_Gs53cKf"
      },
      "source": [
        "# 2. import data\n",
        "url = 'https://raw.githubusercontent.com/inikoreaackr/datasets/main/titanic.csv'\n",
        "df = pd.read_csv(url)"
      ],
      "execution_count": 3,
      "outputs": []
    },
    {
      "cell_type": "markdown",
      "metadata": {
        "id": "6CBTCE_gMQIS"
      },
      "source": [
        "# b. Titanic Data에 대한 EDA(Explanatory Data Analysis)"
      ]
    },
    {
      "cell_type": "code",
      "metadata": {
        "id": "KiO4k-3b52Fj",
        "colab": {
          "base_uri": "https://localhost:8080/",
          "height": 204
        },
        "outputId": "49ff9fb9-fb3b-4549-e2dd-b3251651703b"
      },
      "source": [
        "#1. 전처리 완료된 데이터 확인하기\n",
        "df.head()"
      ],
      "execution_count": 4,
      "outputs": [
        {
          "output_type": "execute_result",
          "data": {
            "text/html": [
              "<div>\n",
              "<style scoped>\n",
              "    .dataframe tbody tr th:only-of-type {\n",
              "        vertical-align: middle;\n",
              "    }\n",
              "\n",
              "    .dataframe tbody tr th {\n",
              "        vertical-align: top;\n",
              "    }\n",
              "\n",
              "    .dataframe thead th {\n",
              "        text-align: right;\n",
              "    }\n",
              "</style>\n",
              "<table border=\"1\" class=\"dataframe\">\n",
              "  <thead>\n",
              "    <tr style=\"text-align: right;\">\n",
              "      <th></th>\n",
              "      <th>Survived</th>\n",
              "      <th>Pclass</th>\n",
              "      <th>Age</th>\n",
              "      <th>SibSp</th>\n",
              "      <th>Parch</th>\n",
              "      <th>Fare</th>\n",
              "      <th>Sex_female</th>\n",
              "      <th>Sex_male</th>\n",
              "    </tr>\n",
              "  </thead>\n",
              "  <tbody>\n",
              "    <tr>\n",
              "      <th>0</th>\n",
              "      <td>0.0</td>\n",
              "      <td>3</td>\n",
              "      <td>22.0</td>\n",
              "      <td>1</td>\n",
              "      <td>0</td>\n",
              "      <td>7.2500</td>\n",
              "      <td>0</td>\n",
              "      <td>1</td>\n",
              "    </tr>\n",
              "    <tr>\n",
              "      <th>1</th>\n",
              "      <td>1.0</td>\n",
              "      <td>1</td>\n",
              "      <td>38.0</td>\n",
              "      <td>1</td>\n",
              "      <td>0</td>\n",
              "      <td>71.2833</td>\n",
              "      <td>1</td>\n",
              "      <td>0</td>\n",
              "    </tr>\n",
              "    <tr>\n",
              "      <th>2</th>\n",
              "      <td>1.0</td>\n",
              "      <td>3</td>\n",
              "      <td>26.0</td>\n",
              "      <td>0</td>\n",
              "      <td>0</td>\n",
              "      <td>7.9250</td>\n",
              "      <td>1</td>\n",
              "      <td>0</td>\n",
              "    </tr>\n",
              "    <tr>\n",
              "      <th>3</th>\n",
              "      <td>1.0</td>\n",
              "      <td>1</td>\n",
              "      <td>35.0</td>\n",
              "      <td>1</td>\n",
              "      <td>0</td>\n",
              "      <td>53.1000</td>\n",
              "      <td>1</td>\n",
              "      <td>0</td>\n",
              "    </tr>\n",
              "    <tr>\n",
              "      <th>4</th>\n",
              "      <td>0.0</td>\n",
              "      <td>3</td>\n",
              "      <td>35.0</td>\n",
              "      <td>0</td>\n",
              "      <td>0</td>\n",
              "      <td>8.0500</td>\n",
              "      <td>0</td>\n",
              "      <td>1</td>\n",
              "    </tr>\n",
              "  </tbody>\n",
              "</table>\n",
              "</div>"
            ],
            "text/plain": [
              "   Survived  Pclass   Age  SibSp  Parch     Fare  Sex_female  Sex_male\n",
              "0       0.0       3  22.0      1      0   7.2500           0         1\n",
              "1       1.0       1  38.0      1      0  71.2833           1         0\n",
              "2       1.0       3  26.0      0      0   7.9250           1         0\n",
              "3       1.0       1  35.0      1      0  53.1000           1         0\n",
              "4       0.0       3  35.0      0      0   8.0500           0         1"
            ]
          },
          "metadata": {
            "tags": []
          },
          "execution_count": 4
        }
      ]
    },
    {
      "cell_type": "markdown",
      "metadata": {
        "id": "SivxnR51TGWo"
      },
      "source": [
        "#### 1. 각 Feature들에 대한 설명\n",
        "\n",
        "  Survived: 승객들의 생존 유무 (1=생존, 0=사망)\n",
        "\n",
        "  Pclass: 승객들이 머문 객실의 등급\n",
        "\n",
        "  Age: 승객들의 나이\n",
        "\n",
        "  SibSp: 승객들의 형제 혹은 부부의 수\n",
        "\n",
        "  Parch: 승객들의 부모 혹은 자녀의 수\n",
        "\n",
        "  Fare: 승객의 지불한 요금\n",
        "\n",
        "  Sex_female: 여성 승객(1 = 여성, 0 = 남성)\n",
        "\n",
        "  Sex_male: 남성 승객(1 = 남성, 0 = 여성)\n",
        "\n",
        "\n"
      ]
    },
    {
      "cell_type": "markdown",
      "metadata": {
        "id": "s_GC5JVfUYfz"
      },
      "source": [
        "#### 2. Feature 및 Instance 개수\n",
        "\n",
        "  Feature 개수: 714개\n",
        "\n",
        "  Instance 개수: 8개"
      ]
    },
    {
      "cell_type": "code",
      "metadata": {
        "colab": {
          "base_uri": "https://localhost:8080/",
          "height": 317
        },
        "id": "jskuGlovUlrq",
        "outputId": "15a3edd7-ec3e-40e1-e802-f891249e5ab9"
      },
      "source": [
        "df.describe() # feature 개수 알아보기"
      ],
      "execution_count": 5,
      "outputs": [
        {
          "output_type": "execute_result",
          "data": {
            "text/html": [
              "<div>\n",
              "<style scoped>\n",
              "    .dataframe tbody tr th:only-of-type {\n",
              "        vertical-align: middle;\n",
              "    }\n",
              "\n",
              "    .dataframe tbody tr th {\n",
              "        vertical-align: top;\n",
              "    }\n",
              "\n",
              "    .dataframe thead th {\n",
              "        text-align: right;\n",
              "    }\n",
              "</style>\n",
              "<table border=\"1\" class=\"dataframe\">\n",
              "  <thead>\n",
              "    <tr style=\"text-align: right;\">\n",
              "      <th></th>\n",
              "      <th>Survived</th>\n",
              "      <th>Pclass</th>\n",
              "      <th>Age</th>\n",
              "      <th>SibSp</th>\n",
              "      <th>Parch</th>\n",
              "      <th>Fare</th>\n",
              "      <th>Sex_female</th>\n",
              "      <th>Sex_male</th>\n",
              "    </tr>\n",
              "  </thead>\n",
              "  <tbody>\n",
              "    <tr>\n",
              "      <th>count</th>\n",
              "      <td>714.000000</td>\n",
              "      <td>714.000000</td>\n",
              "      <td>714.000000</td>\n",
              "      <td>714.000000</td>\n",
              "      <td>714.000000</td>\n",
              "      <td>714.000000</td>\n",
              "      <td>714.000000</td>\n",
              "      <td>714.000000</td>\n",
              "    </tr>\n",
              "    <tr>\n",
              "      <th>mean</th>\n",
              "      <td>0.406162</td>\n",
              "      <td>2.236695</td>\n",
              "      <td>29.699118</td>\n",
              "      <td>0.512605</td>\n",
              "      <td>0.431373</td>\n",
              "      <td>34.694514</td>\n",
              "      <td>0.365546</td>\n",
              "      <td>0.634454</td>\n",
              "    </tr>\n",
              "    <tr>\n",
              "      <th>std</th>\n",
              "      <td>0.491460</td>\n",
              "      <td>0.838250</td>\n",
              "      <td>14.526497</td>\n",
              "      <td>0.929783</td>\n",
              "      <td>0.853289</td>\n",
              "      <td>52.918930</td>\n",
              "      <td>0.481921</td>\n",
              "      <td>0.481921</td>\n",
              "    </tr>\n",
              "    <tr>\n",
              "      <th>min</th>\n",
              "      <td>0.000000</td>\n",
              "      <td>1.000000</td>\n",
              "      <td>0.420000</td>\n",
              "      <td>0.000000</td>\n",
              "      <td>0.000000</td>\n",
              "      <td>0.000000</td>\n",
              "      <td>0.000000</td>\n",
              "      <td>0.000000</td>\n",
              "    </tr>\n",
              "    <tr>\n",
              "      <th>25%</th>\n",
              "      <td>0.000000</td>\n",
              "      <td>1.000000</td>\n",
              "      <td>20.125000</td>\n",
              "      <td>0.000000</td>\n",
              "      <td>0.000000</td>\n",
              "      <td>8.050000</td>\n",
              "      <td>0.000000</td>\n",
              "      <td>0.000000</td>\n",
              "    </tr>\n",
              "    <tr>\n",
              "      <th>50%</th>\n",
              "      <td>0.000000</td>\n",
              "      <td>2.000000</td>\n",
              "      <td>28.000000</td>\n",
              "      <td>0.000000</td>\n",
              "      <td>0.000000</td>\n",
              "      <td>15.741700</td>\n",
              "      <td>0.000000</td>\n",
              "      <td>1.000000</td>\n",
              "    </tr>\n",
              "    <tr>\n",
              "      <th>75%</th>\n",
              "      <td>1.000000</td>\n",
              "      <td>3.000000</td>\n",
              "      <td>38.000000</td>\n",
              "      <td>1.000000</td>\n",
              "      <td>1.000000</td>\n",
              "      <td>33.375000</td>\n",
              "      <td>1.000000</td>\n",
              "      <td>1.000000</td>\n",
              "    </tr>\n",
              "    <tr>\n",
              "      <th>max</th>\n",
              "      <td>1.000000</td>\n",
              "      <td>3.000000</td>\n",
              "      <td>80.000000</td>\n",
              "      <td>5.000000</td>\n",
              "      <td>6.000000</td>\n",
              "      <td>512.329200</td>\n",
              "      <td>1.000000</td>\n",
              "      <td>1.000000</td>\n",
              "    </tr>\n",
              "  </tbody>\n",
              "</table>\n",
              "</div>"
            ],
            "text/plain": [
              "         Survived      Pclass         Age  ...        Fare  Sex_female    Sex_male\n",
              "count  714.000000  714.000000  714.000000  ...  714.000000  714.000000  714.000000\n",
              "mean     0.406162    2.236695   29.699118  ...   34.694514    0.365546    0.634454\n",
              "std      0.491460    0.838250   14.526497  ...   52.918930    0.481921    0.481921\n",
              "min      0.000000    1.000000    0.420000  ...    0.000000    0.000000    0.000000\n",
              "25%      0.000000    1.000000   20.125000  ...    8.050000    0.000000    0.000000\n",
              "50%      0.000000    2.000000   28.000000  ...   15.741700    0.000000    1.000000\n",
              "75%      1.000000    3.000000   38.000000  ...   33.375000    1.000000    1.000000\n",
              "max      1.000000    3.000000   80.000000  ...  512.329200    1.000000    1.000000\n",
              "\n",
              "[8 rows x 8 columns]"
            ]
          },
          "metadata": {
            "tags": []
          },
          "execution_count": 5
        }
      ]
    },
    {
      "cell_type": "code",
      "metadata": {
        "colab": {
          "base_uri": "https://localhost:8080/"
        },
        "id": "NNzQC4m75NoC",
        "outputId": "4d1f1066-4a9a-4d7b-894e-ce53e52a5251"
      },
      "source": [
        "df.dtypes #각 feature에 대한 자료형"
      ],
      "execution_count": null,
      "outputs": [
        {
          "output_type": "execute_result",
          "data": {
            "text/plain": [
              "Survived      float64\n",
              "Pclass          int64\n",
              "Age           float64\n",
              "SibSp           int64\n",
              "Parch           int64\n",
              "Fare          float64\n",
              "Sex_female      int64\n",
              "Sex_male        int64\n",
              "dtype: object"
            ]
          },
          "metadata": {
            "tags": []
          },
          "execution_count": 6
        }
      ]
    },
    {
      "cell_type": "markdown",
      "metadata": {
        "id": "ZAAe1rCshq9z"
      },
      "source": [
        "####Analysis 0. 나이(Age)별 승객 현황\n",
        "\n",
        "\n",
        "---\n",
        "\n",
        "\n",
        "- 본격적으로 data를 비교하기 전, 전체 승객에 대한 나이대별 인원을 확인해 본 결과, 10대 후반, 20대, 30대 인원이 많은 것을 확인할 수 있었다."
      ]
    },
    {
      "cell_type": "code",
      "metadata": {
        "colab": {
          "base_uri": "https://localhost:8080/",
          "height": 386
        },
        "id": "XB27IKCQhATf",
        "outputId": "b9b840b8-d249-4f6e-ea1f-27338a8d54d2"
      },
      "source": [
        "sns.displot(df, x = 'Age')"
      ],
      "execution_count": null,
      "outputs": [
        {
          "output_type": "execute_result",
          "data": {
            "text/plain": [
              "<seaborn.axisgrid.FacetGrid at 0x7f6fc56d00d0>"
            ]
          },
          "metadata": {
            "tags": []
          },
          "execution_count": 59
        },
        {
          "output_type": "display_data",
          "data": {
            "image/png": "[encoded data removed]",
            "text/plain": [
              "<Figure size 360x360 with 1 Axes>"
            ]
          },
          "metadata": {
            "tags": [],
            "needs_background": "light"
          }
        }
      ]
    },
    {
      "cell_type": "markdown",
      "metadata": {
        "id": "fWLmgR6hqK-w"
      },
      "source": [
        "####Analysis 1. 전체 타이타닉호 승객들 중 생존(Survived) 비율\n",
        "\n",
        "\n",
        "---\n",
        "\n",
        "\n",
        "- 아래의 pie chart에서, 전체 승객들에 대해서 생존자(survived)보다 사망자(non_survived)가 더 많다는 것을 알 수 있다."
      ]
    },
    {
      "cell_type": "code",
      "metadata": {
        "colab": {
          "base_uri": "https://localhost:8080/",
          "height": 264
        },
        "id": "g9kHkyZlkkGO",
        "outputId": "5adfbafe-6f26-420e-87b7-5ae43b37d59b"
      },
      "source": [
        "explode = [0, 0.1]\n",
        "labels = ['non-survived','survived']\n",
        "df['Survived'].value_counts().plot.pie(autopct = '%.1f%%', explode = explode, labels = labels)\n",
        "plt.title('Survived rate for all')\n",
        "plt.show()"
      ],
      "execution_count": 6,
      "outputs": [
        {
          "output_type": "display_data",
          "data": {
            "image/png": "[encoded data removed]",
            "text/plain": [
              "<Figure size 432x288 with 1 Axes>"
            ]
          },
          "metadata": {
            "tags": []
          }
        }
      ]
    },
    {
      "cell_type": "markdown",
      "metadata": {
        "id": "FsIzAiTsqa7U"
      },
      "source": [
        "####Analysis 2. 성별(Sex) 생존 확률\n",
        "\n",
        "\n",
        "---\n",
        "\n",
        "\n",
        "- 전체 승객에 대해서 구해본 후, 성별(sex)에 따른 생존율(survived)를 구해본 결과 여성(sex_female)의 생존율이 남성(sex_male)보다 월등히 높다는 것을 확인했다."
      ]
    },
    {
      "cell_type": "code",
      "metadata": {
        "colab": {
          "base_uri": "https://localhost:8080/",
          "height": 264
        },
        "id": "0t-XCuvPl4Ty",
        "outputId": "04260824-777e-45c4-f8c5-22b51a25e428"
      },
      "source": [
        "rate_by_sex = df[[\"Sex_male\", \"Survived\"]].groupby(['Sex_male']).mean().sort_values(by='Survived', ascending=True)\n",
        "labels = ['male', 'female']\n",
        "plt.title('Percentage for survival by sex')\n",
        "plt.pie(rate_by_sex['Survived'], labels=labels, autopct='%.1f%%', explode = [0, 0.1])\n",
        "plt.show()"
      ],
      "execution_count": 7,
      "outputs": [
        {
          "output_type": "display_data",
          "data": {
            "image/png": "[encoded data removed]",
            "text/plain": [
              "<Figure size 432x288 with 1 Axes>"
            ]
          },
          "metadata": {
            "tags": []
          }
        }
      ]
    },
    {
      "cell_type": "markdown",
      "metadata": {
        "id": "1ojQuijzrAEq"
      },
      "source": [
        "####Analysis 3. 나이대에 대한 생존 분포\n",
        "\n",
        "\n",
        "---\n",
        "\n",
        "\n",
        "- 나이가 젊을수록 생존 확률이 조금 더 높았다."
      ]
    },
    {
      "cell_type": "code",
      "metadata": {
        "colab": {
          "base_uri": "https://localhost:8080/",
          "height": 386
        },
        "id": "Zhl4h1V0iEtJ",
        "outputId": "316b2c8f-1fd4-4cf4-d6b6-f8015ec19755"
      },
      "source": [
        "sns.displot(df, x = 'Age', kind = 'kde', hue = 'Survived') #0527 실습 참고"
      ],
      "execution_count": null,
      "outputs": [
        {
          "output_type": "execute_result",
          "data": {
            "text/plain": [
              "<seaborn.axisgrid.FacetGrid at 0x7f6fda9fb110>"
            ]
          },
          "metadata": {
            "tags": []
          },
          "execution_count": 9
        },
        {
          "output_type": "display_data",
          "data": {
            "image/png": "[encoded data removed]",
            "text/plain": [
              "<Figure size 411.875x360 with 1 Axes>"
            ]
          },
          "metadata": {
            "tags": [],
            "needs_background": "light"
          }
        }
      ]
    },
    {
      "cell_type": "markdown",
      "metadata": {
        "id": "Il94hXWStZRo"
      },
      "source": [
        "####Analysis 4. 객실 등급(Pclass)별 생존(Survived)의 나이대(Age)별 분포\n",
        "\n",
        "\n",
        "---\n",
        "\n",
        "\n",
        "- 1등급 객실(Pclass)의 생존율(survived)이 월등히 높게 나온 것을 확인할 수 있다.\n",
        "\n",
        "- 3등급 객실(Pclass)의 생존율(survived)이 낮고 노인분들의 생존율이 매우 낮았다."
      ]
    },
    {
      "cell_type": "code",
      "metadata": {
        "colab": {
          "base_uri": "https://localhost:8080/",
          "height": 657
        },
        "id": "dCll4C_crsm9",
        "outputId": "481c1a1d-41dc-42c2-de9e-5541013804b5"
      },
      "source": [
        "grid = sns.FacetGrid(df, col = 'Survived', row = 'Pclass')\n",
        "grid.map(plt.hist, 'Age')\n",
        "grid.add_legend()\n",
        "plt.show()"
      ],
      "execution_count": null,
      "outputs": [
        {
          "output_type": "display_data",
          "data": {
            "image/png": "[encoded data removed]",
            "text/plain": [
              "<Figure size 440x648 with 6 Axes>"
            ]
          },
          "metadata": {
            "tags": [],
            "needs_background": "light"
          }
        }
      ]
    },
    {
      "cell_type": "markdown",
      "metadata": {
        "id": "Kk5zqEnQzfAB"
      },
      "source": [
        "####Analysis 5. 생존(Survived)한 승객들에 대한 요금(Fare) 분포\n",
        "\n",
        "\n",
        "---\n",
        "\n",
        "\n",
        "- 요금(Fare)이 높을수록 생존 확률이 높다는 것을 확인할 수 있다."
      ]
    },
    {
      "cell_type": "code",
      "metadata": {
        "colab": {
          "base_uri": "https://localhost:8080/",
          "height": 386
        },
        "id": "d3UvdElwyMma",
        "outputId": "efba02fa-df91-48bb-d62c-2f256eb4c17f"
      },
      "source": [
        "sns.displot(df, x = 'Fare', kind = 'kde', hue = 'Survived')"
      ],
      "execution_count": null,
      "outputs": [
        {
          "output_type": "execute_result",
          "data": {
            "text/plain": [
              "<seaborn.axisgrid.FacetGrid at 0x7f6fdb9d2a90>"
            ]
          },
          "metadata": {
            "tags": []
          },
          "execution_count": 11
        },
        {
          "output_type": "display_data",
          "data": {
            "image/png": "[encoded data removed]",
            "text/plain": [
              "<Figure size 411.875x360 with 1 Axes>"
            ]
          },
          "metadata": {
            "tags": [],
            "needs_background": "light"
          }
        }
      ]
    },
    {
      "cell_type": "markdown",
      "metadata": {
        "id": "JOKjkmqEHPOw"
      },
      "source": [
        "####Analysis 6. 연령대별(Age_discription) 생존율(Survived rate)\n",
        "\n",
        "\n",
        "---\n",
        "\n",
        "- 나이(Age)를 임의의 연령대(Age_discription)별로 나누어 보았다.\n",
        "  - 0세 ~ 8세: Baby\n",
        "  - 9세 ~ 20세: Teenager\n",
        "  - 21세 ~ 60세: Adult\n",
        "  - 61세 ~ : Elderly\n",
        "\n",
        "- 그 결과 나이(Age)가 어린 유아(Baby)의 생존율이 다른 연령대에 비해서 월등히 높았다.\n"
      ]
    },
    {
      "cell_type": "code",
      "metadata": {
        "colab": {
          "base_uri": "https://localhost:8080/",
          "height": 351
        },
        "id": "xjH-yVt32Dyd",
        "outputId": "3c71139c-27ed-47b1-93a5-9d2480772ec0"
      },
      "source": [
        "labels = ['baby', 'teenager', 'adult', 'elderly'] \n",
        "df['Age_discription'] = pd.cut(df['Age'], bins = [0, 8, 20, 60, 100], labels = labels) # #임의의 연령별 카테고리 column 생성\n",
        "\n",
        "sns.barplot('Age_discription', 'Survived', data = df)"
      ],
      "execution_count": null,
      "outputs": [
        {
          "output_type": "stream",
          "text": [
            "/usr/local/lib/python3.7/dist-packages/seaborn/_decorators.py:43: FutureWarning: Pass the following variables as keyword args: x, y. From version 0.12, the only valid positional argument will be `data`, and passing other arguments without an explicit keyword will result in an error or misinterpretation.\n",
            "  FutureWarning\n"
          ],
          "name": "stderr"
        },
        {
          "output_type": "execute_result",
          "data": {
            "text/plain": [
              "<matplotlib.axes._subplots.AxesSubplot at 0x7f6fc55d8c90>"
            ]
          },
          "metadata": {
            "tags": []
          },
          "execution_count": 61
        },
        {
          "output_type": "display_data",
          "data": {
            "image/png": "[encoded data removed]",
            "text/plain": [
              "<Figure size 432x288 with 1 Axes>"
            ]
          },
          "metadata": {
            "tags": [],
            "needs_background": "light"
          }
        }
      ]
    },
    {
      "cell_type": "code",
      "metadata": {
        "id": "w9lIuGCoGDvh"
      },
      "source": [
        "df = df.drop(['Age_discription'], axis = 1)"
      ],
      "execution_count": null,
      "outputs": []
    },
    {
      "cell_type": "markdown",
      "metadata": {
        "id": "FnbYs-VXLVf8"
      },
      "source": [
        "# c. 실험 방법 & Split Data"
      ]
    },
    {
      "cell_type": "markdown",
      "metadata": {
        "id": "qz-1WjsDSytT"
      },
      "source": [
        "#### 1. 실험 방법\n",
        "- Train Data를 각각 Train set 과 Test set으로 split한다.\n",
        "\n",
        "- 모델을 생성한다.\n",
        "  1. Decision Tree\n",
        "  2. Logistic Regression\n",
        "  3. Multilayer Perceptron(MLP)\n",
        "\n",
        "- Parameter에 변경을 주면서 최적의 parameter를 찾을 수 있게 훈련시킨다. 이때 parameter 성능은 cross-validation을 통해서 확인한다.\n",
        "  - cross-validation은 5-fold cross validation을 사용한다.(이전 실습 참고)\n",
        "  - Train set을 validation set으로 이용해서 훈련한다.\n",
        "\n",
        "- 최적의 Parameter를 가진 최종 모델을 선정한다.\n",
        "\n",
        "- Test set에 대하여 최종 모델의 성능을 평가한다."
      ]
    },
    {
      "cell_type": "markdown",
      "metadata": {
        "id": "iUgHNJMnQqJv"
      },
      "source": [
        "#### 2. Train - Test Split"
      ]
    },
    {
      "cell_type": "code",
      "metadata": {
        "id": "pE-6aLFiQwIb"
      },
      "source": [
        "# split data\n",
        "train_df, test_df = train_test_split(df, test_size = 0.2, random_state = 42)\n",
        "\n",
        "y_train = np.array(train_df.pop('Survived'))\n",
        "y_test = np.array(test_df.pop('Survived'))\n",
        "\n",
        "X_train = np.array(train_df)\n",
        "X_test = np.array(test_df)"
      ],
      "execution_count": null,
      "outputs": []
    },
    {
      "cell_type": "markdown",
      "metadata": {
        "id": "Bq7Wqf6jY1_D"
      },
      "source": [
        "# d. 모델 생성 & Parameter 조정 과정"
      ]
    },
    {
      "cell_type": "code",
      "metadata": {
        "id": "tLzRbwj6lRse"
      },
      "source": [
        "#cross-validation 결과 출력 함수\n",
        "def get_cv_results(cv_results):\n",
        "  cv_results.keys()\n",
        "  print(\"Accuracy = {}\".format(np.mean(cv_results['test_accuracy'])))\n",
        "  print(\"Precision =  {}\".format(np.mean(cv_results['test_precision'])))\n",
        "  print(\"Recall = {}\".format(np.mean(cv_results['test_recall'])))\n",
        "  print(\"F1_score = {}\".format(np.mean(cv_results['test_f1'])))\n",
        "  print(\"Roc_Auc = {}\".format(np.mean(cv_results['test_roc_auc'])))\n",
        "\n",
        "scoring = ['accuracy', 'precision', 'recall', 'f1', 'roc_auc']"
      ],
      "execution_count": null,
      "outputs": []
    },
    {
      "cell_type": "markdown",
      "metadata": {
        "id": "jnHPR6AXcYiP"
      },
      "source": [
        "### 1. Decision Tree\n",
        "\n",
        "- 이전 Decision Tree(0527) 실습에서 최적의 parameter로 선정된 값들을 전부 취합해서 결과를 내어 보았다.\n",
        "  - max_depth = 4\n",
        "  - max_leaf_nodes = 10\n",
        "  - min_samples_leaf = 40\n",
        "  - min_samples_split = 100"
      ]
    },
    {
      "cell_type": "code",
      "metadata": {
        "colab": {
          "base_uri": "https://localhost:8080/"
        },
        "id": "8OaYOOqqiWCi",
        "outputId": "970b1240-91ff-4b6a-95e4-72893e14a4b1"
      },
      "source": [
        "decTree_1 = DecisionTreeClassifier(max_depth = 4, max_leaf_nodes = 10, min_samples_leaf = 40, min_samples_split = 100)\n",
        "decTree_1_results = cross_validate(decTree_1, X_train, y_train, scoring = scoring, cv = 5)\n",
        "get_cv_results(decTree_1_results)"
      ],
      "execution_count": null,
      "outputs": [
        {
          "output_type": "stream",
          "text": [
            "Accuracy = 0.7846071700991609\n",
            "Precision =  0.8060886164317816\n",
            "Recall = 0.641073080481036\n",
            "F1_score = 0.7083682752670499\n",
            "Roc_Auc = 0.8620672011331492\n"
          ],
          "name": "stdout"
        }
      ]
    },
    {
      "cell_type": "markdown",
      "metadata": {
        "id": "Kuc9seYtquRw"
      },
      "source": [
        "==> 결과적으로 Default 값보다는 Accuracy, Precision, Roc_auc 값은 증가를 했지만 Recall, F1_score가 상대적으로 낮게 나와 parameter를 조정해서 다시 실험해 보았다\n",
        "  - max_depth = None / Default 값\n",
        "\n",
        "  - min_samples_leaf = 1 / Default 값\n",
        "\n",
        "  - min_samples_split = 2 / Default 값"
      ]
    },
    {
      "cell_type": "code",
      "metadata": {
        "colab": {
          "base_uri": "https://localhost:8080/"
        },
        "id": "QitlOb81kP0y",
        "outputId": "17eda666-f3c7-47b5-bd8c-d77996b7eca1"
      },
      "source": [
        "#max_depth 제거\n",
        "print(\"Remove max_depth\\n\")\n",
        "decTree_2 = DecisionTreeClassifier(max_leaf_nodes = 10, min_samples_leaf = 40, min_samples_split = 100)\n",
        "decTree_2_results = cross_validate(decTree_2, X_train, y_train, scoring = scoring, cv = 5)\n",
        "get_cv_results(decTree_2_results)\n",
        "print('\\n')\n",
        "\n",
        "#max_leaf_nodes 제거\n",
        "print(\"Remove max_leaf_nodes\\n\")\n",
        "decTree_7 = DecisionTreeClassifier(max_depth = 4, min_samples_leaf = 40, min_samples_split = 100)\n",
        "decTree_7_results = cross_validate(decTree_7, X_train, y_train, scoring = scoring, cv = 5)\n",
        "get_cv_results(decTree_7_results)\n",
        "print('\\n')\n",
        "\n",
        "#min_samples_leaf 제거\n",
        "print(\"Remove min_samples_leaf\\n\")\n",
        "decTree_3 = DecisionTreeClassifier(max_depth = 4, max_leaf_nodes = 10, min_samples_split = 100)\n",
        "decTree_3_results = cross_validate(decTree_3, X_train, y_train, scoring = scoring, cv = 5)\n",
        "get_cv_results(decTree_3_results)\n",
        "print('\\n')\n",
        "\n",
        "#max_depth, min_samples_leaf 제거\n",
        "print(\"Remove max_depth, min_samples_leaf\\n\")\n",
        "decTree_4 = DecisionTreeClassifier(max_leaf_nodes = 10, min_samples_split = 100)\n",
        "decTree_4_results = cross_validate(decTree_4, X_train, y_train, scoring = scoring, cv = 5)\n",
        "get_cv_results(decTree_4_results)\n",
        "print('\\n')\n",
        "\n",
        "\n",
        "print('----------------------------------------------------------')\n",
        "print('\\n')\n",
        "\n",
        "#min_samples_leaf 제거, max_leaf_nodes 12, min_samples_split 40으로 조정\n",
        "print(\"Remove min_samples_leaf | Arrange max_leaf to 12 min_split to 40\\n\")\n",
        "decTree_5 = DecisionTreeClassifier(max_depth = 4, max_leaf_nodes = 12, min_samples_split = 40)\n",
        "decTree_5_results = cross_validate(decTree_5, X_train, y_train, scoring = scoring, cv = 5)\n",
        "get_cv_results(decTree_5_results)\n",
        "print('\\n')\n",
        "\n",
        "#max_depth 제거, min_samples_leaf 제거, max_leaf_nodes 12, min_samples_split 40으로 조정\n",
        "print(\"Remove max_depth, min_samples_leaf | Arrange max_leaf to 12 min_split to 40\\n\")\n",
        "decTree_6 = DecisionTreeClassifier(max_leaf_nodes = 12, min_samples_split = 40)\n",
        "decTree_6_results = cross_validate(decTree_6, X_train, y_train, scoring = scoring, cv = 5)\n",
        "get_cv_results(decTree_6_results)\n",
        "print('\\n')\n",
        "\n",
        "#max_depth 제거, min_samples_leaf 제거, max_leaf_nodes 제거, min_samples_split 40으로 조정\n",
        "print(\"Remove max_depth, min_samples_leaf, max_leaf_nodes | Arrange max_leaf to 12 min_split to 40\\n\")\n",
        "decTree_8 = DecisionTreeClassifier(min_samples_split = 40)\n",
        "decTree_8_results = cross_validate(decTree_8, X_train, y_train, scoring = scoring, cv = 5)\n",
        "get_cv_results(decTree_8_results)"
      ],
      "execution_count": null,
      "outputs": [
        {
          "output_type": "stream",
          "text": [
            "Remove max_depth\n",
            "\n",
            "Accuracy = 0.7846071700991609\n",
            "Precision =  0.8060886164317816\n",
            "Recall = 0.641073080481036\n",
            "F1_score = 0.7083682752670499\n",
            "Roc_Auc = 0.865968979719133\n",
            "\n",
            "\n",
            "Remove max_leaf_nodes\n",
            "\n",
            "Accuracy = 0.7846071700991609\n",
            "Precision =  0.8060886164317816\n",
            "Recall = 0.641073080481036\n",
            "F1_score = 0.7083682752670499\n",
            "Roc_Auc = 0.8620672011331492\n",
            "\n",
            "\n",
            "Remove min_samples_leaf\n",
            "\n",
            "Accuracy = 0.7951334858886345\n",
            "Precision =  0.7979529282977558\n",
            "Recall = 0.6839037927844588\n",
            "F1_score = 0.7315776617900394\n",
            "Roc_Auc = 0.8604666950657822\n",
            "\n",
            "\n",
            "Remove max_depth, min_samples_leaf\n",
            "\n",
            "Accuracy = 0.7898703279938978\n",
            "Precision =  0.7788279406808224\n",
            "Recall = 0.6967622571692876\n",
            "F1_score = 0.7303330679918225\n",
            "Roc_Auc = 0.8662691298094064\n",
            "\n",
            "\n",
            "----------------------------------------------------------\n",
            "\n",
            "\n",
            "Remove min_samples_leaf | Arrange max_leaf to 12 min_split to 40\n",
            "\n",
            "Accuracy = 0.8038749046529367\n",
            "Precision =  0.8015414518857342\n",
            "Recall = 0.7093432007400555\n",
            "F1_score = 0.7475079383980313\n",
            "Roc_Auc = 0.8472609032705547\n",
            "\n",
            "\n",
            "Remove max_depth, min_samples_leaf | Arrange max_leaf to 12 min_split to 40\n",
            "\n",
            "Accuracy = 0.8144012204424105\n",
            "Precision =  0.8350959988835769\n",
            "Recall = 0.6921369102682702\n",
            "F1_score = 0.7541038742099188\n",
            "Roc_Auc = 0.852118969282661\n",
            "\n",
            "\n",
            "Remove max_depth, min_samples_leaf, max_leaf_nodes | Arrange max_leaf to 12 min_split to 40\n",
            "\n",
            "Accuracy = 0.8021357742181541\n",
            "Precision =  0.8064686377452335\n",
            "Recall = 0.6921369102682702\n",
            "F1_score = 0.7418788064270497\n",
            "Roc_Auc = 0.8540810463111335\n"
          ],
          "name": "stdout"
        }
      ]
    },
    {
      "cell_type": "markdown",
      "metadata": {
        "id": "cDMXdU5rzF7o"
      },
      "source": [
        "\n",
        "\n",
        "---\n",
        "\n",
        "\n",
        "1. 총 8개의 Decision Tree를 만들어 Parameter 값이 변화를 주었다. 처음에는 각각의 Parameter에 대해서 default 값으로 바꿨다. \n",
        "  - 그 결과, max_leaf_nodes랑 min_samples_leaf를 제거해준 것이 근소한 차이로 높은 점수를 가졌다.\n",
        "\n",
        "\n",
        "2. 그 다음으로는 max_depth을 none으로 설정해주고 min_samples_leaf를 제거했다.\n",
        "  - 그 결과, 각각의 parameter들을 제거해준 것 중에서 높은 점수와 비슷하게 나왔다.\n",
        "\n",
        "\n",
        "3. 1번과 2번 decision tree 과정에서 max_leaf를 12로 증가 min_samples_split은 40으로 감소해서 결과를 지켜봤다.\n",
        "  - 그 결과, 1번에서 변형 시켜준 것보다 2번에서 변형 시켜준 것이 더 좋은 결과를 보였다.\n",
        "\n",
        "\n",
        "4. 마지막으로 3번에서 나온 최적의 모델에서 1번에서 높은 점수를 가진 max_leaf_nodes를 제거해준 방법을 따와 3번 최적 모델에서 추가적으로 max_leaf_nodes를 제거해 주었다. 그 결과 max_depth, min_samples_leaf를 제거해주고 parameter를 조정해준 모델보다 점수가 오히려 작게 나왔다.\n",
        "\n",
        "\n",
        "---\n",
        "\n",
        "\n",
        "**최종 Decision Tree Model의 Parameter**\n",
        "  - max_depth: None(default)\n",
        "  \n",
        "  - max_leaf_nodes: 12\n",
        "\n",
        "  - min_samples_leaf: 1(default)\n",
        "\n",
        "  - min_samples_split: 40"
      ]
    },
    {
      "cell_type": "markdown",
      "metadata": {
        "id": "sgnc3hPs3C6d"
      },
      "source": [
        "### 2. Logistic Regression\n",
        "\n",
        "4차 실습 수업에서 Penalty, class_weight를 중점적으로 조정해서 결과를 취합하고, solver는 선택적으로 변형해도 된다고 하여 이를 토대로 Parameter 조정을 했다.\n",
        "\n",
        "- penalty: Used to specify the norm used in the penalization.\n",
        "  - {'l1','l2','elasticnet','none'}, default = 'l2'\n",
        "  - L2: 'newton-cg','sag' and 'lbfgs'\n",
        "  - elasticnet: 'saga'\n",
        "\n",
        "\n",
        "- class_weight: Weights associated with classes in the form.\n",
        "  - dict or 'balanced', defalut = None\n",
        "\n",
        "\n",
        "- solver: Algorithm to use in the optimization problem.\n",
        "  - {'newton-cg', 'lbfgs', 'liblinear', 'sag', 'saga'}, default = 'lbfgs'\n",
        "  - solver 'newton-cg', 'sag', and 'saga' handle l2 or no penalty\n",
        "  - 'liblinear' and 'saga' also handle l1 penalty\n",
        "  - 'saga' also supports 'elasticnet' penalty\n",
        "  - 'liblinear' does not support setting penalty = 'none'\n",
        "\n",
        "\n",
        "참고문헌: https://scikit-learn.org/stable/modules/generated/sklearn.linear_model.LogisticRegression.html"
      ]
    },
    {
      "cell_type": "code",
      "metadata": {
        "colab": {
          "base_uri": "https://localhost:8080/"
        },
        "id": "SWxvuYky2pFr",
        "outputId": "f8d13bda-891e-4ab7-ff1d-c3e7761d7f84"
      },
      "source": [
        "#penalty: L2, class_weight: balanced, solver: newton-cg\n",
        "print('penalty: L2, class_weight: balanced, solver = newton-cg\\n')\n",
        "lr_2 = LogisticRegression(penalty = 'l2', class_weight = 'balanced', solver = 'newton-cg', max_iter = 10000, random_state = 42)\n",
        "lr_2_results = cross_validate(lr_2, X_train, y_train, scoring = scoring, cv = 5)\n",
        "get_cv_results(lr_2_results)\n",
        "print('\\n')\n",
        "\n",
        "#penalty: L2, class_weight: balanced, solver: sag\n",
        "print('penalty: L2, class_weight: balanced, solver = sag\\n')\n",
        "lr_3 = LogisticRegression(penalty = 'l2', class_weight = 'balanced', solver = 'sag', max_iter = 10000, random_state = 42)\n",
        "lr_3_results = cross_validate(lr_3, X_train, y_train, scoring = scoring, cv = 5)\n",
        "get_cv_results(lr_3_results)\n",
        "print('\\n')\n",
        "\n",
        "#penalty: L1, class_weight: balanced, solver: saga\n",
        "print('penalty: L1, class_weight: balanced, solver = saga\\n')\n",
        "lr_4 = LogisticRegression(penalty = 'l1', class_weight = 'balanced', solver = 'saga', max_iter = 10000, random_state = 42)\n",
        "lr_4_results = cross_validate(lr_4, X_train, y_train, scoring = scoring, cv = 5)\n",
        "get_cv_results(lr_4_results)\n",
        "print('\\n')\n",
        "\n",
        "#penalty: L1, class_weight: balanced, solver: liblinear\n",
        "print('penalty: L1, class_weight: balanced, solver = liblinear\\n')\n",
        "lr_5 = LogisticRegression(penalty = 'l1', class_weight = 'balanced', solver = 'liblinear', max_iter = 10000, random_state = 42)\n",
        "lr_5_results = cross_validate(lr_5, X_train, y_train, scoring = scoring, cv = 5)\n",
        "get_cv_results(lr_5_results)\n",
        "print('\\n')\n",
        "\n",
        "#penalty: L2, class_weight: balanced, solver: liblinear\n",
        "print('penalty: L2, class_weight: balanced, solver = liblinear\\n')\n",
        "lr_6 = LogisticRegression(penalty = 'l2', class_weight = 'balanced', solver = 'liblinear', max_iter = 10000, random_state = 42)\n",
        "lr_6_results = cross_validate(lr_6, X_train, y_train, scoring = scoring, cv = 5)\n",
        "get_cv_results(lr_6_results)\n",
        "print('\\n')\n",
        "\n",
        "#penalty: L2, class_weight: dict, solver: lbfgs\n",
        "print('penalty: L2, class_weight: dict, solver = lbfgs\\n')\n",
        "lr_7 = LogisticRegression(penalty = 'l2', class_weight = dict, solver = 'lbfgs', max_iter = 10000, random_state = 42)\n",
        "lr_7_results = cross_validate(lr_7, X_train, y_train, scoring = scoring, cv = 5)\n",
        "get_cv_results(lr_7_results)\n",
        "print('\\n')\n",
        "\n",
        "#penalty: L2, class_weight: dict, solver: newton-cg\n",
        "print('penalty: L2, class_weight: dict, solver = newton-cg\\n')\n",
        "lr_8 = LogisticRegression(penalty = 'l2', class_weight = dict, solver = 'newton-cg', max_iter = 10000, random_state = 42)\n",
        "lr_8_results = cross_validate(lr_8, X_train, y_train, scoring = scoring, cv = 5)\n",
        "get_cv_results(lr_8_results)\n",
        "print('\\n')\n",
        "\n",
        "#class_weight: balanced, solver: lbfgs\n",
        "print('class_weight: balanced, solver = lbfgs\\n')\n",
        "lr_9 = LogisticRegression(class_weight = 'balanced', solver = 'lbfgs', max_iter = 10000, random_state = 42)\n",
        "lr_9_results = cross_validate(lr_9, X_train, y_train, scoring = scoring, cv = 5)\n",
        "get_cv_results(lr_9_results)\n",
        "print('\\n')\n",
        "\n",
        "#penalty: L2, class_weight: dict, solver: liblinear / 앞서 L1, balanced, liblinear 가 좋은 성능을 보였지만, L1은 dict에서는 안되서 L2로 진행 / L2도 dict에서는 안됨\n",
        "\n",
        "#penalty: elasticnet, class_weight: balanced, solver: saga 안됨, class_weight none도 안됨"
      ],
      "execution_count": null,
      "outputs": [
        {
          "output_type": "stream",
          "text": [
            "penalty: L2, class_weight: balanced, solver = newton-cg\n",
            "\n",
            "Accuracy = 0.8073836765827613\n",
            "Precision =  0.7537745532995807\n",
            "Recall = 0.7862164662349675\n",
            "F1_score = 0.7695208518189884\n",
            "Roc_Auc = 0.8665428638491172\n",
            "\n",
            "\n",
            "penalty: L2, class_weight: balanced, solver = sag\n",
            "\n",
            "Accuracy = 0.7863615560640733\n",
            "Precision =  0.7507284701114488\n",
            "Recall = 0.7177613320999076\n",
            "F1_score = 0.7328664140919592\n",
            "Roc_Auc = 0.8568437672333765\n",
            "\n",
            "\n",
            "penalty: L1, class_weight: balanced, solver = saga\n",
            "\n",
            "Accuracy = 0.7863615560640732\n",
            "Precision =  0.7481074025964258\n",
            "Recall = 0.7220166512488436\n",
            "F1_score = 0.7339674014827349\n",
            "Roc_Auc = 0.8549988467089378\n",
            "\n",
            "\n",
            "penalty: L1, class_weight: balanced, solver = liblinear\n",
            "\n",
            "Accuracy = 0.8109077040427154\n",
            "Precision =  0.7666469486345263\n",
            "Recall = 0.773450508788159\n",
            "F1_score = 0.7699072743894475\n",
            "Roc_Auc = 0.8666571371254952\n",
            "\n",
            "\n",
            "penalty: L2, class_weight: balanced, solver = liblinear\n",
            "\n",
            "Accuracy = 0.7986270022883295\n",
            "Precision =  0.7553787878787878\n",
            "Recall = 0.7520814061054578\n",
            "F1_score = 0.753536740401729\n",
            "Roc_Auc = 0.8658303817474634\n",
            "\n",
            "\n",
            "penalty: L2, class_weight: dict, solver = lbfgs\n",
            "\n",
            "Accuracy = 0.8144012204424105\n",
            "Precision =  0.7959559045605558\n",
            "Recall = 0.7350601295097132\n",
            "F1_score = 0.7641914476990198\n",
            "Roc_Auc = 0.8667991259353232\n",
            "\n",
            "\n",
            "penalty: L2, class_weight: dict, solver = newton-cg\n",
            "\n",
            "Accuracy = 0.8144012204424105\n",
            "Precision =  0.7959559045605558\n",
            "Recall = 0.7350601295097132\n",
            "F1_score = 0.7641914476990198\n",
            "Roc_Auc = 0.8667356137092195\n",
            "\n",
            "\n",
            "class_weight: balanced, solver = lbfgs\n",
            "\n",
            "Accuracy = 0.8073836765827613\n",
            "Precision =  0.7537745532995807\n",
            "Recall = 0.7862164662349675\n",
            "F1_score = 0.7695208518189884\n",
            "Roc_Auc = 0.8665428638491172\n",
            "\n",
            "\n"
          ],
          "name": "stdout"
        }
      ]
    },
    {
      "cell_type": "markdown",
      "metadata": {
        "id": "PLzA-_PBEx31"
      },
      "source": [
        "\n",
        "\n",
        "---\n",
        "\n",
        "\n",
        "- 가장 먼저 scikit learn 사이트에서 \n",
        "LogisticRegression의 parameter들의 조합을 생각했다. 설명을 읽으면서 서로 가능하지 않은 조합들도 찾아냈고, 그 결과 대표적으로 9개의 LogisticRegression model을 만들어 냈다.\n",
        "\n",
        "1. Class_weight: 'Balanced'에 관한 조합을 살펴본 바, penalty 'L1' 와 solver 'liblinear'가 가장 좋은 성능을 보였다.\n",
        "\n",
        "2. Class_weight: dict에 과한 조합을 살펴본 바, penalty 'L2' 와 solver 'lbfgs'가 가장 좋은 성능을 보였다.\n",
        "\n",
        "3. 다음으로는 가장 좋은 성능을 보인 'L1', 'balanced', 'liblinear'에서 class_weight을 balanced에서 dict으로 바꾸려고 했지만, 'L1', 'L2', 다 solver: 'liblinear'에서는 오류가 나서 실패했다. 따라서 class_weight: dict에서는 solver는 'lbfgs' 와 'newton-cg'를 사용했고, 좋은 성능을 보여줬다.\n",
        "\n",
        "4. 마지막으로 penalty 'elasticnet'에서 실험을 진행하려고 여러 가능한 parameter들의 조합을 맞춰봤는데, 오류가 나서 parameter 조정을 종료하고 최종 모델을 선정하게 되었다. {'L1', 'balanced', 'liblinear'} 와 {'L2', 'dict', 'lbfgs'} 중에 고민을 했는데 Accuracy는 근소한 차이로 후자가 좋았지만 recall에서 전자가 좋은 성능을 보여서 최종 모델을 {'L1', 'balanced', 'liblinear'}로 정하게 되었다.\n",
        "\n",
        "\n",
        "---\n",
        "\n",
        "\n",
        "\n",
        "**최종 Logistic Regression Model의 Parameter**\n",
        "  - penalty: 'L1'\n",
        "  \n",
        "  - class_weight: 'balanced'\n",
        "\n",
        "  - solver: 'liblinear'"
      ]
    },
    {
      "cell_type": "markdown",
      "metadata": {
        "id": "FNC0YB8PSo_z"
      },
      "source": [
        "### 3. Multilayer Perceptron(MLP)\n",
        "\n",
        "조정할 Parameter는 아래와 같다. \n",
        "\n",
        "- hidden_layer_sizes: The ith element represents the number of neurons in the ith hidden layer\n",
        "  - tuple, length = n_layers -2, default=(100,)\n",
        "  \n",
        "- activation: Activation function for the hidden layer\n",
        "  - {'identity','logistic','tanh','relu'}, default = 'relu'\n",
        "\n",
        "- solver: The solver for weight optimization\n",
        "  - {'lbfgs', 'sgd', 'adam'}, default = 'adam'\n",
        "\n",
        "참고문헌: https://scikit-learn.org/stable/modules/generated/sklearn.neural_network.MLPClassifier.html"
      ]
    },
    {
      "cell_type": "code",
      "metadata": {
        "colab": {
          "base_uri": "https://localhost:8080/"
        },
        "id": "VoRnA4AQteUH",
        "outputId": "2c74f9d9-f3cf-4780-c7ec-9ffdca5386ff"
      },
      "source": [
        "#hidden layer size: 100, 2 | activation: identity\n",
        "print('hidden layer size: 100, 2 | activation: identity\\n')\n",
        "mlp1 = MLPClassifier(hidden_layer_sizes = (100, 2), max_iter = 1000, activation = 'identity', solver = 'adam')\n",
        "mlp1_results = cross_validate(mlp1, X_train, y_train, scoring = scoring, cv = 5)\n",
        "get_cv_results(mlp1_results)\n",
        "print('\\n')\n",
        "\n",
        "#hidden layer size: 200, 2 | activation: tanh\n",
        "print('hidden layer size: 200, 2 | activation: tanh\\n')\n",
        "mlp2 = MLPClassifier(hidden_layer_sizes = (200, 2), max_iter = 1000, activation = 'tanh', solver = 'adam')\n",
        "mlp2_results = cross_validate(mlp2, X_train, y_train, scoring = scoring, cv = 5)\n",
        "get_cv_results(mlp2_results)\n",
        "print('\\n')\n",
        "\n",
        "#hidden layer size: 200, 2 | activation: logistic\n",
        "print('hidden layer size: 200, 2 | activation: logistic\\n')\n",
        "mlp3 = MLPClassifier(hidden_layer_sizes = (200, 2), max_iter = 1000, activation = 'logistic', solver = 'adam')\n",
        "mlp3_results = cross_validate(mlp3, X_train, y_train, scoring = scoring, cv = 5)\n",
        "get_cv_results(mlp3_results)\n",
        "print('\\n')\n",
        "\n",
        "#hidden layer size: 200, 4 | activation: logistic\n",
        "print('hidden layer size: 200, 4 | activation: logistic\\n')\n",
        "mlp4 = MLPClassifier(hidden_layer_sizes = (200, 4), max_iter = 1000, activation = 'logistic', solver = 'adam')\n",
        "mlp4_results = cross_validate(mlp4, X_train, y_train, scoring = scoring, cv = 5)\n",
        "get_cv_results(mlp4_results)\n",
        "print('\\n')\n",
        "\n",
        "#hidden layer size: 200, 4 | activation: identity\n",
        "print('hidden layer size: 200, 4 | activation: identity\\n')\n",
        "mlp5 = MLPClassifier(hidden_layer_sizes = (200, 4), max_iter = 1000, activation = 'identity', solver = 'adam')\n",
        "mlp5_results = cross_validate(mlp4, X_train, y_train, scoring = scoring, cv = 5)\n",
        "get_cv_results(mlp5_results)\n",
        "print('\\n')\n",
        "\n",
        "#hidden layer size: 200, 4 | activation: tanh\n",
        "print('hidden layer size: 200, 4 | activation: tanh\\n')\n",
        "mlp6 = MLPClassifier(hidden_layer_sizes = (200, 4), max_iter = 1000, activation = 'tanh', solver = 'adam')\n",
        "mlp6_results = cross_validate(mlp6, X_train, y_train, scoring = scoring, cv = 5)\n",
        "get_cv_results(mlp6_results)\n",
        "print('\\n')\n",
        "\n",
        "\n",
        "\n",
        "\n",
        "\n"
      ],
      "execution_count": null,
      "outputs": [
        {
          "output_type": "stream",
          "text": [
            "hidden layer size: 100, 2 | activation: identity\n",
            "\n",
            "Accuracy = 0.7845766590389015\n",
            "Precision =  0.7678122873519903\n",
            "Recall = 0.6793709528214616\n",
            "F1_score = 0.7193829540272768\n",
            "Roc_Auc = 0.8540909954769873\n",
            "\n",
            "\n",
            "hidden layer size: 200, 2 | activation: tanh\n",
            "\n",
            "Accuracy = 0.8143859649122808\n",
            "Precision =  0.8153892761469305\n",
            "Recall = 0.713691026827012\n",
            "F1_score = 0.7598411414317978\n",
            "Roc_Auc = 0.8638736853903198\n",
            "\n",
            "\n",
            "hidden layer size: 200, 2 | activation: logistic\n",
            "\n",
            "Accuracy = 0.8161250953470633\n",
            "Precision =  0.8367838354854136\n",
            "Recall = 0.6880666049953745\n",
            "F1_score = 0.7542625758610789\n",
            "Roc_Auc = 0.8716433747895447\n",
            "\n",
            "\n",
            "hidden layer size: 200, 4 | activation: logistic\n",
            "\n",
            "Accuracy = 0.8091533180778032\n",
            "Precision =  0.8075082217524077\n",
            "Recall = 0.7096207215541167\n",
            "F1_score = 0.7526886158929225\n",
            "Roc_Auc = 0.87010793423642\n",
            "\n",
            "\n",
            "hidden layer size: 200, 4 | activation: identity\n",
            "\n",
            "Accuracy = 0.8055987795575896\n",
            "Precision =  0.7854770229770229\n",
            "Recall = 0.7266419981498613\n",
            "F1_score = 0.7538790715758397\n",
            "Roc_Auc = 0.8711302820933694\n",
            "\n",
            "\n",
            "hidden layer size: 200, 4 | activation: tanh\n",
            "\n",
            "Accuracy = 0.8038443935926773\n",
            "Precision =  0.8030208107271312\n",
            "Recall = 0.6964847363552267\n",
            "F1_score = 0.7442272956449292\n",
            "Roc_Auc = 0.8664038394846252\n",
            "\n",
            "\n"
          ],
          "name": "stdout"
        }
      ]
    },
    {
      "cell_type": "markdown",
      "metadata": {
        "id": "8Z14CwtEyJkf"
      },
      "source": [
        "\n",
        "\n",
        "---\n",
        "\n",
        "\n",
        "- Scikit learn에서 MLP 모델에 살펴본 바, solver, 즉 optimization 방법을 adam으로 고정해 놓은 채, activation 그리고 hidden layer의 크기를 조정해서 최적의 모델을 찾는 실험을 총 6개의 모델을 기준으로 진행했다.\n",
        "\n",
        "1. Hidden layer size: hidden layer size는 어떠한 activation parameter에서도 (100,2) 보다는 (200,2)가 더 좋은 성능을 보였다. 따라서 (200,2)를 고르게 되었고, 추후에 (200,4)로 layer size를 높여서 진행해본 결과, (200,4)가 accuracy 뿐만이 아니라 precision, recall 등에서 더 안정적인 확률을 보여서 (200,4)로 parameter를 조정하게 되었다.\n",
        "\n",
        "2. activation: activation은 여러가지 조합들을 hidden layer 와 맞춰서 진행해 본 결과, 모든 activation이 hidden layer size를 높이면서 조정해 나갈 때 좋은 성능을 보여줬다.\n",
        "\n",
        "4. 최종적으로 모델의 parameter를 선정할 때, hidden layer (200,2) activation 'tanh' 과 hidden layer (200,4) activation 'identity'중에서 고민을 하게 되었으며, 결과적으로 hidden layer의 size 가 (200,4)가 어떠한 activation이든 안정적인 결과를 보여서 최종 모델을 후자로 고르게 되었다.\n",
        "\n",
        "\n",
        "---\n",
        "\n",
        "\n",
        "**최종 Multilayer Percetpron Model의 Parameter**\n",
        "  - hidden_layer_sizes: (200, 4)\n",
        "  \n",
        "  - activation: 'identity'\n",
        "\n",
        "  - solver: 'adam'"
      ]
    },
    {
      "cell_type": "markdown",
      "metadata": {
        "id": "SnInW2mfKuyB"
      },
      "source": [
        "# e. 실험 결과 비교"
      ]
    },
    {
      "cell_type": "markdown",
      "metadata": {
        "id": "ItYHZE4aMkRN"
      },
      "source": [
        "- 앞서 진행한 실험들에서 3가지의 모델의 최종 parameter를 선정했다.\n",
        "\n",
        "- 이 각각의 모델들에 대해서 최종 성능 제시는 test set으로 이루어질 것이며, 최종 성능의 평가 목록은 아래와 같다.\n",
        "  - confusion matrix\n",
        "\n",
        "  - accuracy: TP + TN / N\n",
        "\n",
        "  - precision: TP / TP + FP\n",
        "\n",
        "  - recall: TP / TP + FN\n",
        "\n",
        "  - f1 score: 2 * (precision * recall) / (precision + recall)\n",
        "\n",
        "  - roc_auc: tradeoff between TPR and FPR\n"
      ]
    },
    {
      "cell_type": "markdown",
      "metadata": {
        "id": "K1rVk7WhVbBT"
      },
      "source": [
        "- ***auroc curve*** 는 best case는 TPR이 1이고 FPR이 0인 왼쪽 위로 직각을 이루는 것이고, worst case는 중간으로 일직선 즉 auc가 0.5인 경우 randomly guessing이라고도 한다. 만약 직선이 random classifer 직선 밑으로 간다면 그것은 model의 문제가 있는 것이고 다시 설계를 해야 한다.\n",
        "\n",
        "- True Positive Rate(TPR) = TP/(TP+FN)\n",
        "  - TPR이 증가하는 것은 좋은 수치다.\n",
        "\n",
        "- False Positive Rate(FPR) = FP/(FP+TN)\n",
        "  - FPR이 증가하는 것은 실제로 Negative인 것을 Positive로 예측한 것이기 때문에 증가 할수록 안 좋은 수치다."
      ]
    },
    {
      "cell_type": "markdown",
      "metadata": {
        "id": "DbAnGX2vOsLc"
      },
      "source": [
        "### 1. Decision Tree\n",
        "\n",
        "\n",
        "---\n",
        "\n",
        "\n",
        "**최종 Decision Tree Model의 Parameter**\n",
        "  - max_depth: None(default)\n",
        "  \n",
        "  - max_leaf_nodes: 12\n",
        "\n",
        "  - min_samples_leaf: 1(default)\n",
        "\n",
        "  - min_samples_split: 40"
      ]
    },
    {
      "cell_type": "code",
      "metadata": {
        "colab": {
          "base_uri": "https://localhost:8080/",
          "height": 296
        },
        "id": "Qss9dX46Oc1V",
        "outputId": "8f09b50a-86e2-4390-c59c-4a508197bdfd"
      },
      "source": [
        "decTree_test = DecisionTreeClassifier(max_depth = None, max_leaf_nodes = 12, min_samples_leaf = 1, min_samples_split = 40)\n",
        "decTree_test.fit(X_train, y_train)\n",
        "\n",
        "plot_confusion_matrix(decTree_test, X_test, y_test, normalize = None, values_format = 'd')"
      ],
      "execution_count": null,
      "outputs": [
        {
          "output_type": "execute_result",
          "data": {
            "text/plain": [
              "<sklearn.metrics._plot.confusion_matrix.ConfusionMatrixDisplay at 0x7f6fcb161b90>"
            ]
          },
          "metadata": {
            "tags": []
          },
          "execution_count": 25
        },
        {
          "output_type": "display_data",
          "data": {
            "image/png": "[encoded data removed]",
            "text/plain": [
              "<Figure size 432x288 with 2 Axes>"
            ]
          },
          "metadata": {
            "tags": [],
            "needs_background": "light"
          }
        }
      ]
    },
    {
      "cell_type": "code",
      "metadata": {
        "colab": {
          "base_uri": "https://localhost:8080/"
        },
        "id": "c3SI8zT3SBh3",
        "outputId": "ee691a01-8bc6-4627-c2b7-d3e77eb2ec04"
      },
      "source": [
        "decTree_y_pred = decTree_test.predict(X_test)\n",
        "decTree_roc = decTree_test.predict_proba(X_test)[:, 1]\n",
        "\n",
        "print(\"accuracy = {}\".format(decTree_test.score(X_test, y_test)))\n",
        "print(\"precision = {}\".format(precision_score(y_test, decTree_y_pred)))\n",
        "print(\"recall = {}\".format(recall_score(y_test, decTree_y_pred)))\n",
        "print(\"f1_score = {}\".format(f1_score(y_test, decTree_y_pred)))\n",
        "print(\"roc_auc_score = {}\".format(roc_auc_score(y_test, decTree_roc)))"
      ],
      "execution_count": null,
      "outputs": [
        {
          "output_type": "stream",
          "text": [
            "accuracy = 0.7482517482517482\n",
            "precision = 0.6724137931034483\n",
            "recall = 0.6964285714285714\n",
            "f1_score = 0.6842105263157895\n",
            "roc_auc_score = 0.8097290640394089\n"
          ],
          "name": "stdout"
        }
      ]
    },
    {
      "cell_type": "markdown",
      "metadata": {
        "id": "QTjgRhTzUYyO"
      },
      "source": [
        "\n",
        "- Decision Tree model의 최종 test set을 이용한 confusion matrix 및 여러 항목들의 점수를 출력해 보았다."
      ]
    },
    {
      "cell_type": "code",
      "metadata": {
        "colab": {
          "base_uri": "https://localhost:8080/",
          "height": 296
        },
        "id": "XzeCHXCTUpB4",
        "outputId": "d15d3eac-8d3c-4d76-fb15-53753eacd25c"
      },
      "source": [
        "# plot auroc curve\n",
        "plot_roc_curve(decTree_test, X_test, y_test)"
      ],
      "execution_count": null,
      "outputs": [
        {
          "output_type": "execute_result",
          "data": {
            "text/plain": [
              "<sklearn.metrics._plot.roc_curve.RocCurveDisplay at 0x7f6fcb271910>"
            ]
          },
          "metadata": {
            "tags": []
          },
          "execution_count": 30
        },
        {
          "output_type": "display_data",
          "data": {
            "image/png": "[encoded data removed]",
            "text/plain": [
              "<Figure size 432x288 with 1 Axes>"
            ]
          },
          "metadata": {
            "tags": [],
            "needs_background": "light"
          }
        }
      ]
    },
    {
      "cell_type": "markdown",
      "metadata": {
        "id": "uatHqex5Wd9E"
      },
      "source": [
        "### 2. Logistic Regression\n",
        "\n",
        "\n",
        "---\n",
        "\n",
        "\n",
        "**최종 Logistic Regression Model의 Parameter**\n",
        "  - penalty: 'L1'\n",
        "  \n",
        "  - class_weight: 'balanced'\n",
        "\n",
        "  - solver: 'liblinear'\n"
      ]
    },
    {
      "cell_type": "code",
      "metadata": {
        "colab": {
          "base_uri": "https://localhost:8080/",
          "height": 296
        },
        "id": "AdN_mYdrWq-y",
        "outputId": "3ec9bf5c-01e4-49b2-aa5b-029e4765a15b"
      },
      "source": [
        "lr_test = LogisticRegression(penalty = 'l1', class_weight='balanced', solver='liblinear', max_iter=10000)\n",
        "lr_test.fit(X_train, y_train)\n",
        "\n",
        "plot_confusion_matrix(lr_test, X_test, y_test, normalize = None, values_format = 'd')"
      ],
      "execution_count": null,
      "outputs": [
        {
          "output_type": "execute_result",
          "data": {
            "text/plain": [
              "<sklearn.metrics._plot.confusion_matrix.ConfusionMatrixDisplay at 0x7f6fc67ed390>"
            ]
          },
          "metadata": {
            "tags": []
          },
          "execution_count": 31
        },
        {
          "output_type": "display_data",
          "data": {
            "image/png": "[encoded data removed]",
            "text/plain": [
              "<Figure size 432x288 with 2 Axes>"
            ]
          },
          "metadata": {
            "tags": [],
            "needs_background": "light"
          }
        }
      ]
    },
    {
      "cell_type": "code",
      "metadata": {
        "colab": {
          "base_uri": "https://localhost:8080/"
        },
        "id": "rXtIqyh9XzmD",
        "outputId": "6d87c1bb-b8cd-454d-cba5-9b505a6adaeb"
      },
      "source": [
        "lr_y_pred = lr_test.predict(X_test)\n",
        "lr_roc = lr_test.predict_proba(X_test)[:, 1]\n",
        "\n",
        "print(\"accuracy = {}\".format(lr_test.score(X_test, y_test)))\n",
        "print(\"precision = {}\".format(precision_score(y_test, lr_y_pred)))\n",
        "print(\"recall = {}\".format(recall_score(y_test, lr_y_pred)))\n",
        "print(\"f1_score = {}\".format(f1_score(y_test, lr_y_pred)))\n",
        "print(\"roc_auc_score = {}\".format(roc_auc_score(y_test, lr_roc)))"
      ],
      "execution_count": null,
      "outputs": [
        {
          "output_type": "stream",
          "text": [
            "accuracy = 0.7412587412587412\n",
            "precision = 0.6507936507936508\n",
            "recall = 0.7321428571428571\n",
            "f1_score = 0.6890756302521008\n",
            "roc_auc_score = 0.8139367816091954\n"
          ],
          "name": "stdout"
        }
      ]
    },
    {
      "cell_type": "markdown",
      "metadata": {
        "id": "4HvBYRrpYHK3"
      },
      "source": [
        "- Logistic Regression model의 최종 test set을 이용한 confusion matrix 및 여러 항목들의 점수를 출력해 보았다."
      ]
    },
    {
      "cell_type": "code",
      "metadata": {
        "colab": {
          "base_uri": "https://localhost:8080/",
          "height": 296
        },
        "id": "u4a30roCYLga",
        "outputId": "9d596e86-4eb9-46cf-f61a-954c462ab7a8"
      },
      "source": [
        "# plot auroc curve\n",
        "plot_roc_curve(lr_test, X_test, y_test)"
      ],
      "execution_count": null,
      "outputs": [
        {
          "output_type": "execute_result",
          "data": {
            "text/plain": [
              "<sklearn.metrics._plot.roc_curve.RocCurveDisplay at 0x7f6fcb09f210>"
            ]
          },
          "metadata": {
            "tags": []
          },
          "execution_count": 33
        },
        {
          "output_type": "display_data",
          "data": {
            "image/png": "[encoded data removed]",
            "text/plain": [
              "<Figure size 432x288 with 1 Axes>"
            ]
          },
          "metadata": {
            "tags": [],
            "needs_background": "light"
          }
        }
      ]
    },
    {
      "cell_type": "markdown",
      "metadata": {
        "id": "R-1twFTcYYmg"
      },
      "source": [
        "### 3. Multilayer Perceptron(MLP)\n",
        "\n",
        "\n",
        "---\n",
        "\n",
        "**최종 Multilayer Percetpron Model의 Parameter**\n",
        "  - hidden_layer_sizes: (200, 4)\n",
        "  \n",
        "  - activation: 'identity'\n",
        "\n",
        "  - solver: 'adam'"
      ]
    },
    {
      "cell_type": "code",
      "metadata": {
        "colab": {
          "base_uri": "https://localhost:8080/",
          "height": 296
        },
        "id": "DBiWAFzsYh5y",
        "outputId": "db71f8ec-1c69-4add-e618-14b58b7567aa"
      },
      "source": [
        "mlp_test = MLPClassifier(hidden_layer_sizes=(200,4), activation='identity', solver='adam')\n",
        "mlp_test.fit(X_train, y_train)\n",
        "\n",
        "plot_confusion_matrix(mlp_test, X_test, y_test, normalize = None, values_format = 'd')"
      ],
      "execution_count": null,
      "outputs": [
        {
          "output_type": "execute_result",
          "data": {
            "text/plain": [
              "<sklearn.metrics._plot.confusion_matrix.ConfusionMatrixDisplay at 0x7f6fc64eeb10>"
            ]
          },
          "metadata": {
            "tags": []
          },
          "execution_count": 42
        },
        {
          "output_type": "display_data",
          "data": {
            "image/png": "[encoded data removed]",
            "text/plain": [
              "<Figure size 432x288 with 2 Axes>"
            ]
          },
          "metadata": {
            "tags": [],
            "needs_background": "light"
          }
        }
      ]
    },
    {
      "cell_type": "code",
      "metadata": {
        "colab": {
          "base_uri": "https://localhost:8080/"
        },
        "id": "Y2gi-bpcZAUP",
        "outputId": "66a4d6d7-2491-455b-da9d-9235ad23a210"
      },
      "source": [
        "mlp_y_pred = mlp_test.predict(X_test)\n",
        "mlp_roc = mlp_test.predict_proba(X_test)[:, 1]\n",
        "\n",
        "print(\"accuracy = {}\".format(mlp_test.score(X_test, y_test)))\n",
        "print(\"precision = {}\".format(precision_score(y_test, mlp_y_pred)))\n",
        "print(\"recall = {}\".format(recall_score(y_test, mlp_y_pred)))\n",
        "print(\"f1_score = {}\".format(f1_score(y_test, mlp_y_pred)))\n",
        "print(\"roc_auc_score = {}\".format(roc_auc_score(y_test, mlp_roc)))"
      ],
      "execution_count": null,
      "outputs": [
        {
          "output_type": "stream",
          "text": [
            "accuracy = 0.7622377622377622\n",
            "precision = 0.7391304347826086\n",
            "recall = 0.6071428571428571\n",
            "f1_score = 0.6666666666666666\n",
            "roc_auc_score = 0.8071633825944169\n"
          ],
          "name": "stdout"
        }
      ]
    },
    {
      "cell_type": "markdown",
      "metadata": {
        "id": "9gaTYk14ZjWx"
      },
      "source": [
        "- MLP model의 최종 test set을 이용한 confusion matrix 및 여러 항목들의 점수를 출력해 보았다."
      ]
    },
    {
      "cell_type": "code",
      "metadata": {
        "colab": {
          "base_uri": "https://localhost:8080/",
          "height": 296
        },
        "id": "_VV_pJQUZtkm",
        "outputId": "eb322496-85ff-4a96-e411-1f7c9fa80648"
      },
      "source": [
        "# plot auroc curve\n",
        "plot_roc_curve(mlp_test, X_test, y_test)"
      ],
      "execution_count": null,
      "outputs": [
        {
          "output_type": "execute_result",
          "data": {
            "text/plain": [
              "<sklearn.metrics._plot.roc_curve.RocCurveDisplay at 0x7f6fc6485190>"
            ]
          },
          "metadata": {
            "tags": []
          },
          "execution_count": 44
        },
        {
          "output_type": "display_data",
          "data": {
            "image/png": "[encoded data removed]",
            "text/plain": [
              "<Figure size 432x288 with 1 Axes>"
            ]
          },
          "metadata": {
            "tags": [],
            "needs_background": "light"
          }
        }
      ]
    },
    {
      "cell_type": "markdown",
      "metadata": {
        "id": "QF-VAkxWaiZB"
      },
      "source": [
        "# f. 결론\n",
        "\n",
        "- Titanic data set에 대하여 train set을 이용해서 학습을 시켰고, 최종적으로 선정된 각각의 parameter에 대해서 test set으로 평가를 해본 결과, 아래와 같이 최종 모델 선정을 할 수 있었다. 최종 모델 평가는 AUROC score로 비교를 해서 선정하였다."
      ]
    },
    {
      "cell_type": "code",
      "metadata": {
        "colab": {
          "base_uri": "https://localhost:8080/",
          "height": 820
        },
        "id": "wc-wIae7cLQP",
        "outputId": "77aa5a61-e9eb-4378-80d2-95b3b5c0e60e"
      },
      "source": [
        "plot_roc_curve(decTree_test, X_test, y_test)\n",
        "plot_roc_curve(lr_test, X_test, y_test)\n",
        "plot_roc_curve(mlp_test, X_test, y_test)"
      ],
      "execution_count": null,
      "outputs": [
        {
          "output_type": "execute_result",
          "data": {
            "text/plain": [
              "<sklearn.metrics._plot.roc_curve.RocCurveDisplay at 0x7f6fc59c8a50>"
            ]
          },
          "metadata": {
            "tags": []
          },
          "execution_count": 54
        },
        {
          "output_type": "display_data",
          "data": {
            "image/png": "[encoded data removed]",
            "text/plain": [
              "<Figure size 432x288 with 1 Axes>"
            ]
          },
          "metadata": {
            "tags": [],
            "needs_background": "light"
          }
        },
        {
          "output_type": "display_data",
          "data": {
            "image/png": "[encoded data removed]",
            "text/plain": [
              "<Figure size 432x288 with 1 Axes>"
            ]
          },
          "metadata": {
            "tags": [],
            "needs_background": "light"
          }
        },
        {
          "output_type": "display_data",
          "data": {
            "image/png": "[encoded data removed]",
            "text/plain": [
              "<Figure size 432x288 with 1 Axes>"
            ]
          },
          "metadata": {
            "tags": [],
            "needs_background": "light"
          }
        }
      ]
    },
    {
      "cell_type": "code",
      "metadata": {
        "colab": {
          "base_uri": "https://localhost:8080/"
        },
        "id": "lsbX9cYhbR59",
        "outputId": "47cbfb00-a5ba-4b06-94ef-3dbfec010716"
      },
      "source": [
        "# 최종 모델 선정\n",
        "print(\"DECISION TREE MODEL\")\n",
        "print(\"roc_auc_score = {}\".format(roc_auc_score(y_test, decTree_roc)))\n",
        "print(\"------------------------------------------------------------\")\n",
        "print(\"\\n\")\n",
        "print(\"LOGISTIC REGRESSION MODEL\")\n",
        "print(\"roc_auc_score = {}\".format(roc_auc_score(y_test, lr_roc)))\n",
        "print(\"------------------------------------------------------------\")\n",
        "print(\"\\n\")\n",
        "print(\"MULTILAYER PERCEPTRON MODEL\")\n",
        "print(\"roc_auc_score = {}\".format(roc_auc_score(y_test, mlp_roc)))"
      ],
      "execution_count": null,
      "outputs": [
        {
          "output_type": "stream",
          "text": [
            "DECISION TREE MODEL\n",
            "roc_auc_score = 0.8097290640394089\n",
            "------------------------------------------------------------\n",
            "\n",
            "\n",
            "LOGISTIC REGRESSION MODEL\n",
            "roc_auc_score = 0.8139367816091954\n",
            "------------------------------------------------------------\n",
            "\n",
            "\n",
            "MULTILAYER PERCEPTRON MODEL\n",
            "roc_auc_score = 0.8071633825944169\n"
          ],
          "name": "stdout"
        }
      ]
    },
    {
      "cell_type": "markdown",
      "metadata": {
        "id": "G2UBBdv7dM33"
      },
      "source": [
        "## **\"Titanic Data에 대해서 생존 가능한 승객을 예측하는 모델은 Logistic Regression Model로 최종 성능 *0.814*을 보이며 선택을 했다.\"**"
      ]
    }
  ]
}